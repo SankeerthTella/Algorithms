{
  "nbformat": 4,
  "nbformat_minor": 0,
  "metadata": {
    "colab": {
      "name": "DP_Unbounded_Knapsack_Patterns.ipynb",
      "provenance": []
    },
    "kernelspec": {
      "name": "python3",
      "display_name": "Python 3"
    }
  },
  "cells": [
    {
      "cell_type": "markdown",
      "metadata": {
        "id": "0FV3gC9au9bM"
      },
      "source": [
        "***Dynamic Programming Unbounded Knapsack Patterns***"
      ]
    },
    {
      "cell_type": "markdown",
      "metadata": {
        "id": "JMzyi-ugvGql"
      },
      "source": [
        "Problem Statement #\n",
        "Given two integer arrays to represent weights and profits of ‘N’ items, we need to find a subset of these items which will give us maximum profit such that their cumulative weight is not more than a given number ‘C’. We can assume an infinite supply of item quantities; therefore, each item can be selected multiple times."
      ]
    },
    {
      "cell_type": "markdown",
      "metadata": {
        "id": "KPMWvZ6QvMkZ"
      },
      "source": [
        "**Brute Force**"
      ]
    },
    {
      "cell_type": "code",
      "metadata": {
        "id": "qZTArIARvFhn",
        "outputId": "722b9bce-37c6-4a50-f80c-9030490a8a17",
        "colab": {
          "base_uri": "https://localhost:8080/"
        }
      },
      "source": [
        "def solve_knapsack(profits,weights,capacity):\n",
        "  return solve_knapsack_util(profits,weights,capacity,0)\n",
        "\n",
        "def solve_knapsack_util(profits,weights,capacity,curr):\n",
        "  if curr>=len(profits) or capacity<=0 or len(profits)==0 or len(profits)!=len(weights):\n",
        "    return 0\n",
        "  profit1,profit2=0,0\n",
        "  if weights[curr]<=capacity:\n",
        "    profit1=profits[curr]+solve_knapsack_util(profits,weights,capacity-weights[curr],curr)\n",
        "  profit2=solve_knapsack_util(profits,weights,capacity,curr+1)\n",
        "  return max(profit1,profit2)\n",
        "\n",
        "def main():\n",
        "  print(solve_knapsack([15, 50, 60, 90], [1, 3, 4, 5], 8))\n",
        "  print(solve_knapsack([15, 50, 60, 90], [1, 3, 4, 5], 6))\n",
        "\n",
        "main()"
      ],
      "execution_count": 4,
      "outputs": [
        {
          "output_type": "stream",
          "text": [
            "140\n",
            "105\n"
          ],
          "name": "stdout"
        }
      ]
    },
    {
      "cell_type": "markdown",
      "metadata": {
        "id": "iMPuens6ypta"
      },
      "source": [
        "**Top Down Approach**"
      ]
    },
    {
      "cell_type": "code",
      "metadata": {
        "id": "YVmC6zZFxBXu",
        "outputId": "fb85f844-d280-477e-f69e-85689319b78e",
        "colab": {
          "base_uri": "https://localhost:8080/"
        }
      },
      "source": [
        "def solve_knapsack(profits,weights,capacity):\n",
        "  dp=[[-1 for _ in range(capacity+1)]for _ in range(len(profits))]\n",
        "  return solve_knapsack_util(dp,profits,weights,capacity,0)\n",
        "\n",
        "def solve_knapsack_util(dp,profits,weights,capacity,curr):\n",
        "  if curr>=len(profits) or capacity<=0 or len(profits)==0 or len(profits)!=len(weights):\n",
        "    return 0\n",
        "  if dp[curr][capacity]!=-1:\n",
        "    return dp[curr][capacity]\n",
        "  profit1,profit2=0,0\n",
        "  if weights[curr]<=capacity:\n",
        "    profit1=profits[curr]+solve_knapsack_util(dp,profits,weights,capacity-weights[curr],curr)\n",
        "  profit2=solve_knapsack_util(dp,profits,weights,capacity,curr+1)\n",
        "  dp[curr][capacity]=max(profit1,profit2)\n",
        "  return dp[curr][capacity]\n",
        "\n",
        "def main():\n",
        "  print(solve_knapsack([15, 50, 60, 90], [1, 3, 4, 5], 8))\n",
        "  print(solve_knapsack([15, 50, 60, 90], [1, 3, 4, 5], 6))\n",
        "\n",
        "main()"
      ],
      "execution_count": 6,
      "outputs": [
        {
          "output_type": "stream",
          "text": [
            "140\n",
            "105\n"
          ],
          "name": "stdout"
        }
      ]
    },
    {
      "cell_type": "markdown",
      "metadata": {
        "id": "VfGizHOF0sHs"
      },
      "source": [
        "**Bottom Up Aproach**"
      ]
    },
    {
      "cell_type": "code",
      "metadata": {
        "id": "xP0Oty0v0nYd",
        "outputId": "841cd315-b778-4502-8adb-083ec43926f4",
        "colab": {
          "base_uri": "https://localhost:8080/"
        }
      },
      "source": [
        "def solve_knapsack(profits,weights,capacity):\n",
        "  if capacity<=0 or len(profits)==0 or len(profits)!=len(weights):\n",
        "    return 0\n",
        "  dp=[[-1 for _ in range(capacity+1)]for _ in range(len(profits))]\n",
        "  for i in range(len(profits)):\n",
        "    dp[i][0]=0\n",
        "  for i in range(len(profits)):\n",
        "    for j in range(capacity+1):\n",
        "      profit1,profit2=0,0\n",
        "      if weights[i]<=j:\n",
        "        profit1=profits[i]+dp[i][j-weights[i]]\n",
        "      if i>0:\n",
        "        profit2=dp[i-1][j]\n",
        "      dp[i][j]=max(profit1,profit2)\n",
        "  return dp[len(profits)-1][capacity]\n",
        "\n",
        "def main():\n",
        "  print(solve_knapsack([15, 50, 60, 90], [1, 3, 4, 5], 8))\n",
        "  print(solve_knapsack([15, 50, 60, 90], [1, 3, 4, 5], 6))\n",
        "\n",
        "main()"
      ],
      "execution_count": 10,
      "outputs": [
        {
          "output_type": "stream",
          "text": [
            "140\n",
            "105\n"
          ],
          "name": "stdout"
        }
      ]
    },
    {
      "cell_type": "markdown",
      "metadata": {
        "id": "nJHVLHH23mwu"
      },
      "source": [
        "**Rod Cutting**\n",
        "Problem Statement #\n",
        "Given a rod of length ‘n’, we are asked to cut the rod and sell the pieces in a way that will maximize the profit. We are also given the price of every piece of length ‘i’ where ‘1 <= i <= n’.\n",
        "\n"
      ]
    },
    {
      "cell_type": "code",
      "metadata": {
        "id": "GSQHp2N82wmM",
        "outputId": "f632b667-10a9-417f-a761-9d37889fabc1",
        "colab": {
          "base_uri": "https://localhost:8080/"
        }
      },
      "source": [
        "def solve_rod_cutting(lengths, prices, n):\n",
        "  lengthCount = len(lengths)\n",
        "  if n <= 0 or lengthCount == 0 or len(prices) != lengthCount:\n",
        "    return 0\n",
        "  dp = [[0 for _ in range(n+1)] for _ in range(lengthCount)]\n",
        "  for i in range(lengthCount):\n",
        "    for length in range(1, n+1):\n",
        "      p1, p2 = 0, 0\n",
        "      if lengths[i] <= length:\n",
        "        p1 = prices[i] + dp[i][length - lengths[i]]\n",
        "      if i > 0:\n",
        "        p2 = dp[i - 1][length]\n",
        "      dp[i][length] = max(p1, p2)\n",
        "  return dp[lengthCount - 1][n]\n",
        "def main():\n",
        "  print(solve_rod_cutting([1, 2, 3, 4, 5], [2, 6, 7, 10, 13], 5))\n",
        "main()"
      ],
      "execution_count": 11,
      "outputs": [
        {
          "output_type": "stream",
          "text": [
            "14\n"
          ],
          "name": "stdout"
        }
      ]
    },
    {
      "cell_type": "markdown",
      "metadata": {
        "id": "TZdrZs0A5dyc"
      },
      "source": [
        "**Coin Change**\n",
        "Given an infinite supply of ‘n’ coin denominations and a total money amount, we are asked to find the total number of distinct ways to make up that amount.\n",
        "\n",
        "Example:\n",
        "\n",
        "Denominations: {1,2,3}\n",
        "Total amount: 5\n",
        "Output: 5\n",
        "Explanation: There are five ways to make the change for '5', here are those ways:\n",
        "  1. {1,1,1,1,1} \n",
        "  2. {1,1,1,2} \n",
        "  3. {1,2,2}\n",
        "  4. {1,1,3}\n",
        "  5. {2,3}"
      ]
    },
    {
      "cell_type": "markdown",
      "metadata": {
        "id": "60zkpYxv5wMW"
      },
      "source": [
        "**Brute Force**"
      ]
    },
    {
      "cell_type": "code",
      "metadata": {
        "id": "M7WXrf7O4fbX",
        "outputId": "c473e501-b320-4ac5-e0e2-bc8526e83bf9",
        "colab": {
          "base_uri": "https://localhost:8080/"
        }
      },
      "source": [
        "def count_change(denominations, total):\n",
        "  return count_change_recursive(denominations,total,0)\n",
        "\n",
        "def count_change_recursive(denominations,total,curr):\n",
        "  n=len(denominations)\n",
        "  if total==0:\n",
        "    return 1\n",
        "  if curr>=n or total<0 or n==0:\n",
        "    return 0\n",
        "  sum1,sum2=0,0\n",
        "  if denominations[curr]<=total:\n",
        "    sum1=count_change_recursive(denominations,total-denominations[curr],curr)\n",
        "  sum2=count_change_recursive(denominations,total,curr+1)\n",
        "\n",
        "  return sum1+sum2\n",
        "\n",
        "def main():\n",
        "  print(count_change([1, 2, 3], 5))\n",
        "main()"
      ],
      "execution_count": 14,
      "outputs": [
        {
          "output_type": "stream",
          "text": [
            "5\n"
          ],
          "name": "stdout"
        }
      ]
    },
    {
      "cell_type": "markdown",
      "metadata": {
        "id": "EvWanePp6CNl"
      },
      "source": [
        "**Top Down Approach**"
      ]
    },
    {
      "cell_type": "code",
      "metadata": {
        "id": "mAKh5nvb6CeE",
        "outputId": "c3a63587-bd7e-40c8-a6a8-e1da148134a2",
        "colab": {
          "base_uri": "https://localhost:8080/"
        }
      },
      "source": [
        "def count_change(denominations, total):\n",
        "  dp = [[-1 for _ in range(total+1)] for _ in range(len(denominations))]\n",
        "  return count_change_recursive(dp, denominations, total, 0)\n",
        "\n",
        "def count_change_recursive(dp, denominations, total, currentIndex):\n",
        "  if total == 0:\n",
        "    return 1\n",
        "  n = len(denominations)\n",
        "  if n == 0 or currentIndex >= n:\n",
        "    return 0\n",
        "  if dp[currentIndex][total] != -1:\n",
        "    return dp[currentIndex][total]\n",
        "  sum1 = 0\n",
        "  if denominations[currentIndex] <= total:\n",
        "    sum1 = count_change_recursive(\n",
        "      dp, denominations, total - denominations[currentIndex], currentIndex)\n",
        "  sum2 = count_change_recursive(dp, denominations, total, currentIndex + 1)\n",
        "  dp[currentIndex][total] = sum1 + sum2\n",
        "  return dp[currentIndex][total]\n",
        "\n",
        "def main():\n",
        "  print(count_change([1, 2, 3], 5))\n",
        "main()"
      ],
      "execution_count": 15,
      "outputs": [
        {
          "output_type": "stream",
          "text": [
            "5\n"
          ],
          "name": "stdout"
        }
      ]
    },
    {
      "cell_type": "markdown",
      "metadata": {
        "id": "OXiB3Hps6Cn5"
      },
      "source": [
        "**Bottom Up Aproach**"
      ]
    },
    {
      "cell_type": "code",
      "metadata": {
        "id": "uUOKt6Du6Cy4",
        "outputId": "cd91f77a-416d-40ba-8ccc-1c992b6f7e5c",
        "colab": {
          "base_uri": "https://localhost:8080/"
        }
      },
      "source": [
        "def count_change(denominations, total):\n",
        "  n = len(denominations)\n",
        "  dp = [[0 for _ in range(total+1)] for _ in range(n)]\n",
        "  for i in range(n):\n",
        "    dp[i][0] = 1\n",
        "  for i in range(n):\n",
        "    for t in range(1, total+1):\n",
        "      if i > 0:\n",
        "        dp[i][t] = dp[i - 1][t]\n",
        "      if t >= denominations[i]:\n",
        "        dp[i][t] += dp[i][t - denominations[i]]\n",
        "  return dp[n - 1][total]\n",
        "def main():\n",
        "  print(count_change([1, 2, 3], 5))\n",
        "main()\n"
      ],
      "execution_count": 16,
      "outputs": [
        {
          "output_type": "stream",
          "text": [
            "5\n"
          ],
          "name": "stdout"
        }
      ]
    },
    {
      "cell_type": "markdown",
      "metadata": {
        "id": "8G5h7a6iN2Q_"
      },
      "source": [
        "**Minimum Coin Change**\n",
        "Given an infinite supply of ‘n’ coin denominations and a total money amount, we are asked to find the minimum number of coins needed to make up that amount.\n",
        "\n",
        "Example 1:\n",
        "\n",
        "Denominations: {1,2,3}\n",
        "Total amount: 5\n",
        "Output: 2\n",
        "Explanation: We need minimum of two coins {2,3} to make a total of '5'"
      ]
    },
    {
      "cell_type": "markdown",
      "metadata": {
        "id": "ipmoMISuRuVi"
      },
      "source": [
        "**Brute Force**"
      ]
    },
    {
      "cell_type": "code",
      "metadata": {
        "id": "CGA5k0KX9rJ9",
        "outputId": "e806a488-48b1-4a2b-d234-c294d8ee59d3",
        "colab": {
          "base_uri": "https://localhost:8080/"
        }
      },
      "source": [
        "def min_count_change(denom,total):\n",
        "  res=min_count_change_util(denom,total,0)\n",
        "  return -1 if res==float('inf') else res\n",
        "\n",
        "def min_count_change_util(denom,total,curr):\n",
        "  n=len(denom)\n",
        "  if total==0:\n",
        "    return 0\n",
        "  if n==0 or curr>=n or total<0:\n",
        "    return float('inf')\n",
        "  count1=float('inf')\n",
        "  if denom[curr]<=total:\n",
        "    res=min_count_change_util(denom,total-denom[curr],curr)\n",
        "    if res!=float('inf'):\n",
        "      count1=res+1 \n",
        "  count2=min_count_change_util(denom,total,curr+1)\n",
        "  return min(count1,count2)\n",
        "\n",
        "def main():\n",
        "  print(min_count_change([1, 2, 3], 5))\n",
        "  print(min_count_change([1, 2, 3], 11))\n",
        "  print(min_count_change([1, 2, 3], 7))\n",
        "  print(min_count_change([3, 5], 7))\n",
        "main()\n"
      ],
      "execution_count": 4,
      "outputs": [
        {
          "output_type": "stream",
          "text": [
            "2\n",
            "4\n",
            "3\n",
            "-1\n"
          ],
          "name": "stdout"
        }
      ]
    },
    {
      "cell_type": "markdown",
      "metadata": {
        "id": "YP55enWFUoGa"
      },
      "source": [
        "**Top Down Approach**"
      ]
    },
    {
      "cell_type": "code",
      "metadata": {
        "id": "1WDl_5iRTNEw",
        "outputId": "d4d67e65-b9e1-4948-a756-6be3f8234744",
        "colab": {
          "base_uri": "https://localhost:8080/"
        }
      },
      "source": [
        "def min_count_change(denom,total):\n",
        "  dp=[[-1 for _ in range(total+1)]for _ in range(len(denom))]\n",
        "  res= min_count_change_util(dp,denom,total,0)\n",
        "  return res if res!=float('inf') else -1\n",
        "  \n",
        "\n",
        "def min_count_change_util(dp,denom,total,curr):\n",
        "  n=len(denom)\n",
        "  if total==0:\n",
        "    return 0\n",
        "  if n==0 or curr>=n or total<0:\n",
        "    return float('inf')\n",
        "  if dp[curr][total]!=-1:\n",
        "    return dp[curr][total]\n",
        "  count1=float('inf')\n",
        "  if denom[curr]<=total:\n",
        "    res=min_count_change_util(dp,denom,total-denom[curr],curr)\n",
        "    if res!=float('inf'):\n",
        "      count1=res+1 \n",
        "  count2=min_count_change_util(dp,denom,total,curr+1)\n",
        "  dp[curr][total]=min(count1,count2)\n",
        "  return dp[curr][total]\n",
        "\n",
        "def main():\n",
        "  print(min_count_change([1, 2, 3], 5))\n",
        "  print(min_count_change([1, 2, 3], 11))\n",
        "  print(min_count_change([1, 2, 3], 7))\n",
        "  print(min_count_change([3, 5], 7))\n",
        "main()"
      ],
      "execution_count": 8,
      "outputs": [
        {
          "output_type": "stream",
          "text": [
            "2\n",
            "4\n",
            "3\n",
            "-1\n"
          ],
          "name": "stdout"
        }
      ]
    },
    {
      "cell_type": "markdown",
      "metadata": {
        "id": "_pchqq5nUrf5"
      },
      "source": [
        "**Bottom Up Approach**"
      ]
    },
    {
      "cell_type": "code",
      "metadata": {
        "id": "DOFrXSTmUrmu",
        "outputId": "f302fcf8-96e5-45da-aea5-bf4f310b934d",
        "colab": {
          "base_uri": "https://localhost:8080/"
        }
      },
      "source": [
        "def count_change(denominations, total):\n",
        "  n = len(denominations)\n",
        "  dp = [[float('inf') for _ in range(total+1)] for _ in range(n)]\n",
        "  for i in range(n):\n",
        "    dp[i][0] = 0\n",
        "  for i in range(n):\n",
        "    for t in range(0, total+1):\n",
        "      if i > 0:\n",
        "        dp[i][t] = dp[i - 1][t]  \n",
        "      if t >= denominations[i]:\n",
        "        if dp[i][t - denominations[i]] != float('inf'):\n",
        "          dp[i][t] = min(dp[i][t], dp[i][t - denominations[i]] + 1)\n",
        "  return -1 if dp[n - 1][total] == float('inf') else dp[n - 1][total]\n",
        "def main():\n",
        "  print(count_change([1, 2, 3], 5))\n",
        "  print(count_change([1, 2, 3], 11))\n",
        "  print(count_change([1, 2, 3], 7))\n",
        "  print(count_change([3, 5], 7))\n",
        "main()"
      ],
      "execution_count": 12,
      "outputs": [
        {
          "output_type": "stream",
          "text": [
            "2\n",
            "4\n",
            "3\n",
            "-1\n"
          ],
          "name": "stdout"
        }
      ]
    },
    {
      "cell_type": "markdown",
      "metadata": {
        "id": "Jb9D5l3PY0gr"
      },
      "source": [
        "**Maximum Ribbon Cut**\n",
        "\n",
        "\n",
        "*   We are given a ribbon of length ‘n’ and a set of possible ribbon lengths. Now we need to cut the ribbon into the maximum number of pieces that comply with the above-mentioned possible lengths. Write a method that will return the count of pieces.\n",
        "\n",
        "Example 1:\n",
        "\n",
        "n: 5\n",
        "Ribbon Lengths: {2,3,5}\n",
        "Output: 2\n",
        "Explanation: Ribbon pieces will be {2,3}.\n",
        "\n",
        "\n"
      ]
    },
    {
      "cell_type": "markdown",
      "metadata": {
        "id": "YI5xQcrKdU3I"
      },
      "source": [
        "**Brute Force**"
      ]
    },
    {
      "cell_type": "code",
      "metadata": {
        "id": "TNiTIccSXAki",
        "outputId": "88e410c6-0975-46f3-821c-489347a31072",
        "colab": {
          "base_uri": "https://localhost:8080/"
        }
      },
      "source": [
        "def count_ribbon_pieces(lengths,total):\n",
        "  res=count_ribbon_pieces_util(lengths,total,0)\n",
        "  return -1 if res==float('-inf') else res\n",
        "\n",
        "def count_ribbon_pieces_util(lengths,total,curr):\n",
        "  n=len(lengths)\n",
        "  if total==0:\n",
        "    return 0\n",
        "  if n==0 or curr>=n or total<0:\n",
        "    return float('-inf')\n",
        "  count1=float('-inf')\n",
        "  if lengths[curr]<=total:\n",
        "    res=count_ribbon_pieces_util(lengths,total-lengths[curr],curr)\n",
        "    if res!=float('-inf'):\n",
        "      count1=res+1 \n",
        "  count2=count_ribbon_pieces_util(lengths,total,curr+1)\n",
        "  return max(count1,count2)\n",
        "\n",
        "def main():\n",
        "  print(count_ribbon_pieces([2, 3, 5], 5))\n",
        "  print(count_ribbon_pieces([2, 3], 7))\n",
        "  print(count_ribbon_pieces([3, 5, 7], 13))\n",
        "  print(count_ribbon_pieces([3, 5], 7))\n",
        "\n",
        "\n",
        "main()"
      ],
      "execution_count": 14,
      "outputs": [
        {
          "output_type": "stream",
          "text": [
            "2\n",
            "3\n",
            "3\n",
            "-1\n"
          ],
          "name": "stdout"
        }
      ]
    },
    {
      "cell_type": "markdown",
      "metadata": {
        "id": "Y0RYJQvRdh-U"
      },
      "source": [
        "**Top Down Approach**"
      ]
    },
    {
      "cell_type": "code",
      "metadata": {
        "id": "DO0HyPPPdQGs",
        "outputId": "1f078dfe-7df6-410e-8a44-8dc5bbc19cbc",
        "colab": {
          "base_uri": "https://localhost:8080/"
        }
      },
      "source": [
        "def count_ribbon_pieces(lengths,total):\n",
        "  dp=[[-1 for _ in range(total+1)]for _ in range(len(lengths))]\n",
        "  res= count_ribbon_pieces_util(dp,lengths,total,0)\n",
        "  return res if res!=float('-inf') else -1\n",
        "  \n",
        "\n",
        "def count_ribbon_pieces_util(dp,lengths,total,curr):\n",
        "  n=len(lengths)\n",
        "  if total==0:\n",
        "    return 0\n",
        "  if n==0 or curr>=n or total<0:\n",
        "    return float('-inf')\n",
        "  if dp[curr][total]!=-1:\n",
        "    return dp[curr][total]\n",
        "  count1=float('-inf')\n",
        "  if lengths[curr]<=total:\n",
        "    res=count_ribbon_pieces_util(dp,lengths,total-lengths[curr],curr)\n",
        "    if res!=float('-inf'):\n",
        "      count1=res+1 \n",
        "  count2=count_ribbon_pieces_util(dp,lengths,total,curr+1)\n",
        "  dp[curr][total]=max(count1,count2)\n",
        "  return dp[curr][total]\n",
        "\n",
        "def main():\n",
        "  print(count_ribbon_pieces([2, 3, 5], 5))\n",
        "  print(count_ribbon_pieces([2, 3], 7))\n",
        "  print(count_ribbon_pieces([3, 5, 7], 13))\n",
        "  print(count_ribbon_pieces([3, 5], 7))\n",
        "\n",
        "\n",
        "main()"
      ],
      "execution_count": 16,
      "outputs": [
        {
          "output_type": "stream",
          "text": [
            "2\n",
            "3\n",
            "3\n",
            "-1\n"
          ],
          "name": "stdout"
        }
      ]
    },
    {
      "cell_type": "markdown",
      "metadata": {
        "id": "Cy4PB6U1dioa"
      },
      "source": [
        "**Bottom Up Approach**"
      ]
    },
    {
      "cell_type": "code",
      "metadata": {
        "id": "aPMOG7o8djTo",
        "outputId": "54127be8-6bd1-40ca-8fab-50d437429064",
        "colab": {
          "base_uri": "https://localhost:8080/"
        }
      },
      "source": [
        "def count_ribbon_pieces(lengths, total):\n",
        "  n = len(lengths)\n",
        "  dp = [[float('-inf') for _ in range(total+1)] for _ in range(n)]\n",
        "  for i in range(n):\n",
        "    dp[i][0] = 0\n",
        "  for i in range(n):\n",
        "    for t in range(0, total+1):\n",
        "      if i > 0:\n",
        "        dp[i][t] = dp[i - 1][t]  \n",
        "      if t >= lengths[i]:\n",
        "        if dp[i][t - lengths[i]] != float('-inf'):\n",
        "          dp[i][t] = max(dp[i][t], dp[i][t - lengths[i]] + 1)\n",
        "  return -1 if dp[n - 1][total] == float('-inf') else dp[n - 1][total]\n",
        "def main():\n",
        "  print(count_ribbon_pieces([2, 3, 5], 5))\n",
        "  print(count_ribbon_pieces([2, 3], 7))\n",
        "  print(count_ribbon_pieces([3, 5, 7], 13))\n",
        "  print(count_ribbon_pieces([3, 5], 7))\n",
        "\n",
        "\n",
        "main()"
      ],
      "execution_count": 18,
      "outputs": [
        {
          "output_type": "stream",
          "text": [
            "2\n",
            "3\n",
            "3\n",
            "-1\n"
          ],
          "name": "stdout"
        }
      ]
    }
  ]
}