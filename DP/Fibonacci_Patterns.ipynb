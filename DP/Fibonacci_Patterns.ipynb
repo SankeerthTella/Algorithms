{
  "nbformat": 4,
  "nbformat_minor": 0,
  "metadata": {
    "colab": {
      "name": "Fibonacci_Patterns.ipynb",
      "provenance": [],
      "collapsed_sections": []
    },
    "kernelspec": {
      "name": "python3",
      "display_name": "Python 3"
    }
  },
  "cells": [
    {
      "cell_type": "markdown",
      "metadata": {
        "id": "xt_H7z349-Xx"
      },
      "source": [
        "**Fibonacci Patterns**\n",
        "\n"
      ]
    },
    {
      "cell_type": "markdown",
      "metadata": {
        "id": "oQSDYAE4m64X"
      },
      "source": [
        "**Fibonacci**\n",
        "\n",
        "\n",
        "*   Write a function to calculate the nth Fibonacci number.\n",
        "\n",
        "Fibonacci numbers are a series of numbers in which each number is the sum of the two preceding numbers. First few Fibonacci numbers are: 0, 1, 1, 2, 3, 5, 8, …\n",
        "\n",
        "Mathematically we can define the Fibonacci numbers as:\n",
        "\n",
        "    Fib(n) = Fib(n-1) + Fib(n-2), for n > 1\n",
        " \n",
        "    Given that: Fib(0) = 0, and Fib(1) = 1\n",
        "\n",
        "\n"
      ]
    },
    {
      "cell_type": "markdown",
      "metadata": {
        "id": "pq1Cgb19nKZQ"
      },
      "source": [
        "**Brute Force**"
      ]
    },
    {
      "cell_type": "code",
      "metadata": {
        "id": "XlCZL2_TnF7S",
        "outputId": "e8728dd8-ca60-4ffd-8b32-8a76c9af30c5",
        "colab": {
          "base_uri": "https://localhost:8080/"
        }
      },
      "source": [
        "def calculateFibonacci(n):\n",
        "  if n<2:\n",
        "    return n\n",
        "  return calculateFibonacci(n-1)+calculateFibonacci(n-2)\n",
        "def main():\n",
        "  print(calculateFibonacci(5))\n",
        "  print(calculateFibonacci(6))\n",
        "  print(calculateFibonacci(7))\n",
        "\n",
        "main()"
      ],
      "execution_count": null,
      "outputs": [
        {
          "output_type": "stream",
          "text": [
            "5\n",
            "8\n",
            "13\n"
          ],
          "name": "stdout"
        }
      ]
    },
    {
      "cell_type": "markdown",
      "metadata": {
        "id": "AJ_4qq36n8Fr"
      },
      "source": [
        "**Top Down Approach**"
      ]
    },
    {
      "cell_type": "code",
      "metadata": {
        "id": "jhxTO8VBn1Gl",
        "outputId": "2b515a01-1601-4e4e-fcd2-7c731cb84e86",
        "colab": {
          "base_uri": "https://localhost:8080/"
        }
      },
      "source": [
        "def calculateFibonacci(n):\n",
        "  dp=[-1 for _ in range(n+1)]\n",
        "  return calculateFibonacci_util(dp,n)\n",
        "def calculateFibonacci_util(dp,n):\n",
        "  if n<2:\n",
        "    return n\n",
        "  if dp[n]!=-1:\n",
        "    return dp[n]\n",
        "  dp[n]=calculateFibonacci_util(dp,n-1)+calculateFibonacci_util(dp,n-2)\n",
        "  return dp[n]\n",
        "def main():\n",
        "  print(calculateFibonacci(5))\n",
        "  print(calculateFibonacci(6))\n",
        "  print(calculateFibonacci(7))\n",
        "\n",
        "main()"
      ],
      "execution_count": null,
      "outputs": [
        {
          "output_type": "stream",
          "text": [
            "5\n",
            "8\n",
            "13\n"
          ],
          "name": "stdout"
        }
      ]
    },
    {
      "cell_type": "markdown",
      "metadata": {
        "id": "Vd6OnwMWojLC"
      },
      "source": [
        "**Bottom UP Approach**"
      ]
    },
    {
      "cell_type": "code",
      "metadata": {
        "id": "v_AMifFSoc_c",
        "outputId": "c8587f63-63e5-4084-ea91-ab932001a542",
        "colab": {
          "base_uri": "https://localhost:8080/"
        }
      },
      "source": [
        "def calculateFibonacci(n):\n",
        "  if n<2:\n",
        "    return n\n",
        "  dp=[0,1]\n",
        "  for i in range(2,n+1):\n",
        "    dp.append(dp[i-1]+dp[i-2])\n",
        "  return dp[n]\n",
        "def main():\n",
        "  print(calculateFibonacci(5))\n",
        "  print(calculateFibonacci(6))\n",
        "  print(calculateFibonacci(7))\n",
        "\n",
        "main()"
      ],
      "execution_count": null,
      "outputs": [
        {
          "output_type": "stream",
          "text": [
            "5\n",
            "8\n",
            "13\n"
          ],
          "name": "stdout"
        }
      ]
    },
    {
      "cell_type": "markdown",
      "metadata": {
        "id": "5yJEKPfFpexp"
      },
      "source": [
        "**Memory Optimization**"
      ]
    },
    {
      "cell_type": "code",
      "metadata": {
        "id": "4D4EBynlpDGl",
        "outputId": "d5e9fcd8-c95d-4a53-dc14-21df9fdae567",
        "colab": {
          "base_uri": "https://localhost:8080/"
        }
      },
      "source": [
        "def calculateFibonacci(n):\n",
        "  if n<2:\n",
        "    return n\n",
        "  n1,n2,temp=0,1,0\n",
        "  for i in range(2,n+1):\n",
        "    temp=n1+n2\n",
        "    n1=n2\n",
        "    n2=temp\n",
        "  return n2\n",
        "  \n",
        "def main():\n",
        "  print(calculateFibonacci(5))\n",
        "  print(calculateFibonacci(6))\n",
        "  print(calculateFibonacci(7))\n",
        "\n",
        "main()"
      ],
      "execution_count": null,
      "outputs": [
        {
          "output_type": "stream",
          "text": [
            "5\n",
            "8\n",
            "13\n"
          ],
          "name": "stdout"
        }
      ]
    },
    {
      "cell_type": "markdown",
      "metadata": {
        "id": "gsTuxJmVp6VZ"
      },
      "source": [
        "**StairCase**\n",
        "\n",
        "\n",
        "*   Given a stair with ‘n’ steps, implement a method to count how many possible ways are there to reach the top of the staircase, given that, at every step you can either take 1 step, 2 steps, or 3 steps.\n",
        "\n",
        "Example 1:\n",
        "\n",
        "Number of stairs (n) : 3\n",
        "Number of ways = 4\n",
        "Explanation: Following are the four ways we can climb : {1,1,1}, {1,2}, {2,1}, {3} \n",
        "\n"
      ]
    },
    {
      "cell_type": "markdown",
      "metadata": {
        "id": "mPjKYXeC2KLw"
      },
      "source": [
        "This problem can be converted to fibonacci pattern\n",
        "\n",
        "*  CountWays(n) = CountWays(n-1) + CountWays(n-2) + CountWays(n-3), for n >=3\n",
        "\n",
        "\n"
      ]
    },
    {
      "cell_type": "code",
      "metadata": {
        "id": "_Wln0HYAp3XF",
        "outputId": "d325f2c4-5620-40dc-82b8-6a0ceb63ab4b",
        "colab": {
          "base_uri": "https://localhost:8080/"
        }
      },
      "source": [
        "def count_ways(n):\n",
        "  if n < 2:\n",
        "    return 1\n",
        "  if n == 2:\n",
        "    return 2\n",
        "  n1, n2, n3 = 1, 1, 2\n",
        "  for i in range(3, n+1):\n",
        "    n1, n2, n3 = n2, n3, n1+n2+n3\n",
        "  return n3\n",
        "\n",
        "\n",
        "def main():\n",
        "  print(count_ways(3))\n",
        "  print(count_ways(4))\n",
        "  print(count_ways(5))\n",
        "\n",
        "\n",
        "main()"
      ],
      "execution_count": null,
      "outputs": [
        {
          "output_type": "stream",
          "text": [
            "4\n",
            "7\n",
            "13\n"
          ],
          "name": "stdout"
        }
      ]
    },
    {
      "cell_type": "markdown",
      "metadata": {
        "id": "fekKbawW8DPq"
      },
      "source": [
        "**Number factors**\n",
        "\n",
        "*   Given a number ‘n’, implement a method to count how many possible ways there are to express ‘n’ as the sum of 1, 3, or 4.\n",
        "\n",
        "Example 1:\n",
        "\n",
        "n : 4\n",
        "Number of ways = 4\n",
        "Explanation: Following are the four ways we can express 'n' : {1,1,1,1}, {1,3}, {3,1}, {4} \n",
        "\n",
        "\n",
        "\n"
      ]
    },
    {
      "cell_type": "markdown",
      "metadata": {
        "id": "xSiN7yr_8QXc"
      },
      "source": [
        "It can be converted to fibonacci pattern\n",
        "\n",
        "CountWays(n) = CountWays(n-1) + CountWays(n-3) + CountWays(n-4), for n >= 4"
      ]
    },
    {
      "cell_type": "code",
      "metadata": {
        "id": "4joo8uZu8O_K",
        "outputId": "e6e38d02-ad16-467e-a949-3ae19ad5c513",
        "colab": {
          "base_uri": "https://localhost:8080/"
        }
      },
      "source": [
        "def count_ways(n):\n",
        "  dp = [0 for x in range(n+1)]\n",
        "  dp[0] = 1\n",
        "  dp[1] = 1\n",
        "  dp[2] = 1\n",
        "  dp[3] = 2\n",
        "  for i in range(4, n+1):\n",
        "    dp[i] = dp[i - 1] + dp[i - 3] + dp[i - 4]\n",
        "  return dp[n]\n",
        "\n",
        "def main():\n",
        "  print(count_ways(4))\n",
        "  print(count_ways(5))\n",
        "  print(count_ways(6))\n",
        "  \n",
        "main()\n"
      ],
      "execution_count": null,
      "outputs": [
        {
          "output_type": "stream",
          "text": [
            "4\n",
            "6\n",
            "9\n"
          ],
          "name": "stdout"
        }
      ]
    },
    {
      "cell_type": "markdown",
      "metadata": {
        "id": "j3rPlvvSQevf"
      },
      "source": [
        "**Minimum jumps to reach the end**\n",
        "\n",
        "*   Given an array of positive numbers, where each element represents the max number of jumps that can be made forward from that element, write a program to find the minimum number of jumps needed to reach the end of the array (starting from the first element). If an element is 0, then we cannot move through that element.\n",
        "\n",
        "Example 1:\n",
        "\n",
        "Input = {2,1,1,1,4}\n",
        "Output = 3\n",
        "\n",
        "\n",
        "\n",
        "Explanation: Starting from index '0', we can reach the last index through: 0->2->3->4\n",
        "\n"
      ]
    },
    {
      "cell_type": "code",
      "metadata": {
        "id": "GsijjB-D3FPE",
        "outputId": "a0332bc4-336d-4b71-9a29-55714462f316",
        "colab": {
          "base_uri": "https://localhost:8080/"
        }
      },
      "source": [
        "def count_min_jumps(jumps):\n",
        "  return count_min_jumps_util(jumps,0)\n",
        "\n",
        "def count_min_jumps_util(jumps,curr):\n",
        "  n=len(jumps)\n",
        "  if curr==n-1:\n",
        "    return 0\n",
        "  if jumps[curr]==0:\n",
        "    return float('inf')\n",
        "  total_jumps=float('inf')\n",
        "  start,end=curr+1,curr+jumps[curr]\n",
        "  while start<n and start<=end:\n",
        "    minJumps=count_min_jumps_util(jumps,start)\n",
        "    start+=1\n",
        "    if minJumps!=float('inf'):\n",
        "      total_jumps=min(total_jumps,minJumps+1)\n",
        "  return total_jumps\n",
        "\n",
        "def main():\n",
        "\n",
        "  print(count_min_jumps([2, 1, 1, 1, 4]))\n",
        "  print(count_min_jumps([1, 1, 3, 6, 9, 3, 0, 1, 3]))\n",
        "\n",
        "\n",
        "main()"
      ],
      "execution_count": null,
      "outputs": [
        {
          "output_type": "stream",
          "text": [
            "3\n",
            "4\n"
          ],
          "name": "stdout"
        }
      ]
    },
    {
      "cell_type": "markdown",
      "metadata": {
        "id": "ptPwa8hJUUDk"
      },
      "source": [
        "**Top Down Approach**"
      ]
    },
    {
      "cell_type": "code",
      "metadata": {
        "id": "vOxFlrepUOzY",
        "outputId": "3382b559-5265-4be5-e5c0-2f332d6e6376",
        "colab": {
          "base_uri": "https://localhost:8080/"
        }
      },
      "source": [
        "def count_min_jumps(jumps):\n",
        "  dp=[-1 for _ in range(len(jumps))]\n",
        "  return count_min_jumps_util(dp,jumps,0)\n",
        "\n",
        "def count_min_jumps_util(dp,jumps,curr):\n",
        "  n=len(jumps)\n",
        "  if curr==n-1:\n",
        "    return 0\n",
        "  if jumps[curr]==0:\n",
        "    return float('inf')\n",
        "  if dp[curr]!=-1:\n",
        "    return dp[curr]\n",
        "  total_jumps=float('inf')\n",
        "  start,end=curr+1,curr+jumps[curr]\n",
        "  while start<n and start<=end:\n",
        "    minJumps=count_min_jumps_util(dp,jumps,start)\n",
        "    start+=1\n",
        "    if minJumps!=float('inf'):\n",
        "      total_jumps=min(total_jumps,minJumps+1)\n",
        "  dp[curr]=total_jumps\n",
        "\n",
        "  return dp[curr]\n",
        "\n",
        "def main():\n",
        "\n",
        "  print(count_min_jumps([2, 1, 1, 1, 4]))\n",
        "  print(count_min_jumps([1, 1, 3, 6, 9, 3, 0, 1, 3]))\n",
        "\n",
        "\n",
        "main()"
      ],
      "execution_count": null,
      "outputs": [
        {
          "output_type": "stream",
          "text": [
            "3\n",
            "4\n"
          ],
          "name": "stdout"
        }
      ]
    },
    {
      "cell_type": "markdown",
      "metadata": {
        "id": "KK6hu18NUVF4"
      },
      "source": [
        "**Bottom Up Approach**"
      ]
    },
    {
      "cell_type": "code",
      "metadata": {
        "id": "G_JYlE_AUVPJ",
        "outputId": "396f12c0-e7e7-4359-94ab-80d6383c4c92",
        "colab": {
          "base_uri": "https://localhost:8080/"
        }
      },
      "source": [
        "def count_min_jumps(jumps):\n",
        "  n=len(jumps)\n",
        "  dp=[float('inf') for _ in range(n)]\n",
        "  dp[0]=0\n",
        "  for start in range(n-1):\n",
        "    end=start+1\n",
        "    while end<=start+jumps[start] and end<n:\n",
        "      dp[end]=min(dp[end],dp[start]+1)\n",
        "      end+=1\n",
        "  return dp[n-1]\n",
        "def main():\n",
        "  print(count_min_jumps([2, 1, 1, 1, 4]))\n",
        "  print(count_min_jumps([1, 1, 3, 6, 9, 3, 0, 1, 3]))\n",
        "\n",
        "main()"
      ],
      "execution_count": null,
      "outputs": [
        {
          "output_type": "stream",
          "text": [
            "3\n",
            "4\n"
          ],
          "name": "stdout"
        }
      ]
    },
    {
      "cell_type": "markdown",
      "metadata": {
        "id": "SJ7YLAxlbWN8"
      },
      "source": [
        "**Minimu Jumps with Fee**\n",
        "\n",
        "\n",
        "*   Given a staircase with ‘n’ steps and an array of ‘n’ numbers representing the fee that you have to pay if you take the step. Implement a method to calculate the minimum fee required to reach the top of the staircase (beyond the top-most step). At every step, you have an option to take either 1 step, 2 steps, or 3 steps. You should assume that you are standing at the first step.\n",
        "\n",
        "\n",
        "\n",
        "\n",
        "\n"
      ]
    },
    {
      "cell_type": "markdown",
      "metadata": {
        "id": "XOfEUtw7n1Kl"
      },
      "source": [
        "**Brute Force**"
      ]
    },
    {
      "cell_type": "code",
      "metadata": {
        "id": "ok90Sa-AaBHa",
        "outputId": "c064fe18-40b0-4ac7-d97b-1c9010236560",
        "colab": {
          "base_uri": "https://localhost:8080/"
        }
      },
      "source": [
        "def find_min_fee(fee):\n",
        "  return find_min_fee_util(fee,0)\n",
        "\n",
        "def find_min_fee_util(fee,curr):\n",
        "  n=len(fee)\n",
        "  if curr>=n:\n",
        "    return 0\n",
        "  take1step=find_min_fee_util(fee,curr+1)\n",
        "  take2step=find_min_fee_util(fee,curr+2)\n",
        "  take3step=find_min_fee_util(fee,curr+3)\n",
        "  min_of_all=min(take1step,take2step,take3step)\n",
        "  return fee[curr]+min_of_all\n",
        "\n",
        "def main():\n",
        "  print(find_min_fee([1, 2, 5, 2, 1, 2]))\n",
        "  print(find_min_fee([2, 3, 4, 5]))\n",
        "  print(find_min_fee([1, 100, 1, 1, 1, 100, 1, 1, 100, 1]))\n",
        "  print(find_min_fee([1, 0,0,0]))\n",
        "main()"
      ],
      "execution_count": null,
      "outputs": [
        {
          "output_type": "stream",
          "text": [
            "3\n",
            "5\n",
            "4\n",
            "1\n"
          ],
          "name": "stdout"
        }
      ]
    },
    {
      "cell_type": "markdown",
      "metadata": {
        "id": "Io-KGmyJn5YA"
      },
      "source": [
        "**Top Down**"
      ]
    },
    {
      "cell_type": "code",
      "metadata": {
        "id": "8jWBZX4Xee11",
        "outputId": "caab3c85-f8a8-4b64-e15b-3915b1d358da",
        "colab": {
          "base_uri": "https://localhost:8080/"
        }
      },
      "source": [
        "def find_min_fee(fee):\n",
        "  dp=[-1 for _ in range(len(fee))]\n",
        "  return find_min_fee_util(dp,fee,0)\n",
        "\n",
        "def find_min_fee_util(dp,fee,curr):\n",
        "  n=len(fee)\n",
        "  if curr>=n:\n",
        "    return 0\n",
        "  if dp[curr]!=-1:\n",
        "    return dp[curr]\n",
        "  take1step=find_min_fee_util(dp,fee,curr+1)\n",
        "  take2step=find_min_fee_util(dp,fee,curr+2)\n",
        "  take3step=find_min_fee_util(dp,fee,curr+3)\n",
        "  min_of_all=min(take1step,take2step,take3step)\n",
        "  dp[curr]=fee[curr]+min_of_all\n",
        "  return dp[curr]\n",
        "\n",
        "def main():\n",
        "  print(find_min_fee([1, 2, 5, 2, 1, 2]))\n",
        "  print(find_min_fee([2, 3, 4, 5]))\n",
        "main()"
      ],
      "execution_count": null,
      "outputs": [
        {
          "output_type": "stream",
          "text": [
            "3\n",
            "5\n"
          ],
          "name": "stdout"
        }
      ]
    },
    {
      "cell_type": "markdown",
      "metadata": {
        "id": "Zi9kfVAxn-Sp"
      },
      "source": [
        "**Bottom Up**"
      ]
    },
    {
      "cell_type": "code",
      "metadata": {
        "id": "bjsWnho1fn7P",
        "outputId": "64598505-fdfe-4bc9-d878-5a60df3d01a9",
        "colab": {
          "base_uri": "https://localhost:8080/"
        }
      },
      "source": [
        "def find_min_fee(fee):\n",
        "  n=len(fee)\n",
        "  dp=[0 for _ in range(n+1)]\n",
        "  dp[0]=0\n",
        "  dp[1]=fee[0]\n",
        "  dp[2]=fee[0]\n",
        "  for i in range(2,n):\n",
        "    dp[i+1]=min(fee[i]+dp[i],fee[i-1]+dp[i-1],fee[i-2]+dp[i-2])\n",
        "  return dp[n]\n",
        "\n",
        "def main():\n",
        "  print(find_min_fee([1, 2, 5, 2, 1, 2]))\n",
        "  print(find_min_fee([2, 3, 4, 5]))\n",
        "main()"
      ],
      "execution_count": null,
      "outputs": [
        {
          "output_type": "stream",
          "text": [
            "3\n",
            "5\n"
          ],
          "name": "stdout"
        }
      ]
    },
    {
      "cell_type": "markdown",
      "metadata": {
        "id": "o0rS0-4Rwo3F"
      },
      "source": [
        "**House thief**\n",
        "\n",
        "\n",
        "*   Given a number array representing the wealth of ‘n’ houses, determine the maximum amount of money the thief can steal without alerting the security system.\n",
        "\n",
        "Example 1:\n",
        "\n",
        "Input: {2, 5, 1, 3, 6, 2, 4}\n",
        "Output: 15\n",
        "Explanation: The thief should steal from houses 5 + 6 + 4\n",
        "\n"
      ]
    },
    {
      "cell_type": "markdown",
      "metadata": {
        "id": "e483A1b5w3Bm"
      },
      "source": [
        "**Brute Force**"
      ]
    },
    {
      "cell_type": "code",
      "metadata": {
        "id": "CmAe2UfRtfbg",
        "outputId": "8869f77b-d10e-46ed-e68b-6311f61bd179",
        "colab": {
          "base_uri": "https://localhost:8080/"
        }
      },
      "source": [
        "def find_max_steal(wealth):\n",
        "  return find_max_steal_recursive(wealth, 0)\n",
        "\n",
        "\n",
        "def find_max_steal_recursive(wealth, currentIndex):\n",
        "\n",
        "  if currentIndex >= len(wealth):\n",
        "    return 0\n",
        "  stealCurrent = wealth[currentIndex] + find_max_steal_recursive(wealth, currentIndex + 2)\n",
        "  skipCurrent = find_max_steal_recursive(wealth, currentIndex + 1)\n",
        "\n",
        "  return max(stealCurrent, skipCurrent)\n",
        "\n",
        "\n",
        "def main():\n",
        "\n",
        "  print(find_max_steal([2, 5, 1, 3, 6, 2, 4]))\n",
        "  print(find_max_steal([2, 10, 14, 8, 1]))\n",
        "\n",
        "\n",
        "main()"
      ],
      "execution_count": null,
      "outputs": [
        {
          "output_type": "stream",
          "text": [
            "15\n",
            "18\n"
          ],
          "name": "stdout"
        }
      ]
    },
    {
      "cell_type": "markdown",
      "metadata": {
        "id": "10ULxPchw5wS"
      },
      "source": [
        "**Top Down**"
      ]
    },
    {
      "cell_type": "code",
      "metadata": {
        "id": "5Z_k4VV4w2Ls"
      },
      "source": [
        "def find_max_steal(wealth):\n",
        "  dp = [0 for x in range(len(wealth))]\n",
        "  return find_max_steal_recursive(dp, wealth, 0)\n",
        "\n",
        "\n",
        "def find_max_steal_recursive(dp, wealth, currentIndex):\n",
        "  if currentIndex >= len(wealth):\n",
        "    return 0\n",
        "\n",
        "  if dp[currentIndex] == 0:\n",
        "    stealCurrent = wealth[currentIndex] + find_max_steal_recursive(dp, wealth, currentIndex + 2)\n",
        "    skipCurrent = find_max_steal_recursive(dp, wealth, currentIndex + 1)\n",
        "\n",
        "    dp[currentIndex] = max(stealCurrent, skipCurrent)\n",
        "\n",
        "  return dp[currentIndex]\n",
        "\n",
        "\n",
        "def main():\n",
        "\n",
        "  print(find_max_steal([2, 5, 1, 3, 6, 2, 4]))\n",
        "  print(find_max_steal([2, 10, 14, 8, 1]))\n",
        "\n",
        "\n",
        "main()"
      ],
      "execution_count": null,
      "outputs": []
    },
    {
      "cell_type": "markdown",
      "metadata": {
        "id": "ArSbY2vg9nVd"
      },
      "source": [
        "**Bottom Up**"
      ]
    },
    {
      "cell_type": "code",
      "metadata": {
        "id": "zV3KIFXk9qIi",
        "outputId": "f947313c-078c-46ae-8f97-eb67c2c7547e",
        "colab": {
          "base_uri": "https://localhost:8080/"
        }
      },
      "source": [
        "def find_max_steal(wealth):\n",
        "  n = len(wealth)\n",
        "  if n == 0:\n",
        "    return 0\n",
        "  dp = [0 for x in range(n+1)]  \n",
        "  dp[0] = 0  \n",
        "  dp[1] = wealth[0] \n",
        "\n",
        "  for i in range(1, n):\n",
        "    dp[i + 1] = max(wealth[i] + dp[i - 1], dp[i])\n",
        "\n",
        "  return dp[n]\n",
        "\n",
        "\n",
        "def main():\n",
        "\n",
        "  print(find_max_steal([2, 5, 1, 3, 6, 2, 4]))\n",
        "  print(find_max_steal([2, 10, 14, 8, 1]))\n",
        "\n",
        "\n",
        "main()"
      ],
      "execution_count": null,
      "outputs": [
        {
          "output_type": "stream",
          "text": [
            "15\n",
            "18\n"
          ],
          "name": "stdout"
        }
      ]
    }
  ]
}