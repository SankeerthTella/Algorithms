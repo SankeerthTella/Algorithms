{
  "nbformat": 4,
  "nbformat_minor": 0,
  "metadata": {
    "colab": {
      "name": "DP_01_KnapsackPatterns.ipynb",
      "provenance": []
    },
    "kernelspec": {
      "name": "python3",
      "display_name": "Python 3"
    }
  },
  "cells": [
    {
      "cell_type": "markdown",
      "metadata": {
        "id": "_LBBvGyW9l6e"
      },
      "source": [
        "0/1 Knapsack Problem (Brute Force)"
      ]
    },
    {
      "cell_type": "code",
      "metadata": {
        "id": "i2lkeO4U9mCv",
        "outputId": "57bef42e-3f25-4309-946b-3d324abbfe78",
        "colab": {
          "base_uri": "https://localhost:8080/"
        }
      },
      "source": [
        "def knapsack_Recursive(profits,weights,capacity,currIndex):\n",
        "  if capacity<=0 or currIndex>=len(profits):\n",
        "    return 0\n",
        "  profit1,profit2=0,0\n",
        "  \n",
        "  if weights[currIndex]<=capacity:\n",
        "    profit1=profits[currIndex]+knapsack_Recursive(profits,weights,capacity-weights[currIndex],currIndex+1)\n",
        "  \n",
        "  profit2=knapsack_Recursive(profits,weights,capacity,currIndex+1)\n",
        "\n",
        "  return max(profit1,profit2)\n",
        "\n",
        "def knapsack_Brute(profits,weights,capacity):\n",
        "  return knapsack_Recursive(profits,weights,capacity,0)\n",
        "\n",
        "def main():\n",
        "  print(knapsack_Brute([1,6,10,16],[1,2,3,5],7))\n",
        "\n",
        "main()"
      ],
      "execution_count": null,
      "outputs": [
        {
          "output_type": "stream",
          "text": [
            "22\n"
          ],
          "name": "stdout"
        }
      ]
    },
    {
      "cell_type": "markdown",
      "metadata": {
        "id": "YJNEgho3AVZ6"
      },
      "source": [
        "0/1 Knapsack problem (Top-down with memoization)"
      ]
    },
    {
      "cell_type": "code",
      "metadata": {
        "id": "nqHzaGLMAKv0",
        "outputId": "250b1726-3cc2-4db2-d095-e58528b68276",
        "colab": {
          "base_uri": "https://localhost:8080/"
        }
      },
      "source": [
        "def knapsack_Recursive(dp,profits,weights,capacity,currIndex):\n",
        "  if capacity<=0 or currIndex>=len(profits):\n",
        "    return 0\n",
        "  if dp[currIndex][capacity]!=-1:\n",
        "    return dp[currIndex][capacity]\n",
        "\n",
        "  profit1=0\n",
        "  if weights[currIndex]<=capacity:\n",
        "    profit1=profits[currIndex]+knapsack_Recursive(dp,profits,weights,capacity-weights[currIndex],currIndex+1)\n",
        "\n",
        "  profit2=knapsack_Recursive(dp,profits,weights,capacity,currIndex+1)\n",
        "\n",
        "  dp[currIndex][capacity]=max(profit1,profit2)\n",
        "  return dp[currIndex][capacity]\n",
        "\n",
        "def knapsack_TopDown(profits,weights,capacity):\n",
        "  dp=[[-1 for _ in range(capacity+1)]for _ in range(len(profits))]\n",
        "  \n",
        "  return knapsack_Recursive(dp,profits,weights,capacity,0)\n",
        "\n",
        "def main():\n",
        "  print(knapsack_TopDown([1,6,10,16],[1,2,3,5],7))\n",
        "\n",
        "main()"
      ],
      "execution_count": null,
      "outputs": [
        {
          "output_type": "stream",
          "text": [
            "22\n"
          ],
          "name": "stdout"
        }
      ]
    },
    {
      "cell_type": "markdown",
      "metadata": {
        "id": "yIpJ51dYGUOk"
      },
      "source": [
        "0/1 Knapsack problem (Bottom-up with memoization)"
      ]
    },
    {
      "cell_type": "code",
      "metadata": {
        "id": "_kkNJSn3BWVp",
        "outputId": "b2ad3634-bb1c-42a8-8374-0907ff35415f",
        "colab": {
          "base_uri": "https://localhost:8080/"
        }
      },
      "source": [
        "def knapsack_BottomUp(profits,weights,capacity):\n",
        "  n=len(profits)\n",
        "  if n==0 or capacity<=0:\n",
        "    return 0\n",
        "  dp=[[0 for _ in range(capacity+1)] for _ in range(n)]\n",
        "  for i in range(0,n):\n",
        "    dp[i][0]=0\n",
        "  for j in range(0,capacity+1):\n",
        "    if weights[0]<=j:\n",
        "      dp[0][j]=profits[0]\n",
        "  for i in range(1,n):\n",
        "    for c in range(1,capacity+1):\n",
        "      profit1,profit2=0,0\n",
        "      profit1=dp[i-1][c]\n",
        "      if weights[i]<=c:\n",
        "        profit2=profits[i]+dp[i-1][c-weights[i]]\n",
        "      dp[i][c]=max(profit1,profit2)\n",
        "  return dp[n-1][capacity]\n",
        "\n",
        "\n",
        "def main():\n",
        "  print(knapsack_BottomUp([1,6,10,16],[1,2,3,5],7))\n",
        "  \n",
        "\n",
        "main()"
      ],
      "execution_count": 9,
      "outputs": [
        {
          "output_type": "stream",
          "text": [
            "22\n"
          ],
          "name": "stdout"
        }
      ]
    },
    {
      "cell_type": "markdown",
      "metadata": {
        "id": "F-b-z2HIkAs0"
      },
      "source": [
        "**Equal Subset Sum Partition**\n",
        "*Statement:Given a set of positive numbers, find if we can partition it into two subsets such that the sum of elements in both the subsets is equal.\n",
        "\n"
      ]
    },
    {
      "cell_type": "code",
      "metadata": {
        "id": "rJJl-1bFg5er",
        "outputId": "e17549f5-e477-42cd-f3ca-03601999fba1",
        "colab": {
          "base_uri": "https://localhost:8080/"
        }
      },
      "source": [
        "#Brute Force\n",
        "def can_Partition(nums):\n",
        "  s=sum(nums)\n",
        "  if s%2!=0:\n",
        "    return False\n",
        "  return can_Partition_util(nums,s//2,0)\n",
        "\n",
        "def can_Partition_util(nums,sum,curr):\n",
        "  if sum==0:\n",
        "    return True\n",
        "  n=len(nums)\n",
        "  if curr>=n or sum<0 or n==0:\n",
        "    return False\n",
        "  if nums[curr]<=sum:\n",
        "    if can_Partition_util(nums,sum-nums[curr],curr+1):\n",
        "      return True\n",
        "  return can_Partition_util(nums,sum,curr+1)\n",
        "def main():\n",
        "  print(can_Partition([1,2,3,4]))\n",
        "  print(can_Partition([1,1,3,4,7]))\n",
        "  print(can_Partition([2,3,4,6]))\n",
        "main()"
      ],
      "execution_count": 26,
      "outputs": [
        {
          "output_type": "stream",
          "text": [
            "True\n",
            "True\n",
            "False\n"
          ],
          "name": "stdout"
        }
      ]
    },
    {
      "cell_type": "markdown",
      "metadata": {
        "id": "XqV7CuBKmZer"
      },
      "source": [
        "Top Down Approach"
      ]
    },
    {
      "cell_type": "code",
      "metadata": {
        "id": "X0The2xyklRt",
        "outputId": "d1c14885-9810-472a-ed32-8e3ec48c5449",
        "colab": {
          "base_uri": "https://localhost:8080/"
        }
      },
      "source": [
        "def can_Partition(nums):\n",
        "  s=sum(nums)\n",
        "  if s%2!=0:\n",
        "    return False\n",
        "  dp=[[False for _ in range((s//2)+1)]for _ in range(len(nums))]\n",
        "  return can_Partition_util(nums,dp,s//2,0)\n",
        "\n",
        "def can_Partition_util(nums,dp,sum,curr):\n",
        "  if sum==0:\n",
        "    return True\n",
        "  n=len(nums)\n",
        "  if curr>=n or sum<0 or n==0:\n",
        "    return False\n",
        "  if dp[curr][sum]:\n",
        "    return dp[curr][sum]\n",
        "  if nums[curr]<=sum:\n",
        "    if can_Partition_util(nums,dp,sum-nums[curr],curr+1):\n",
        "      dp[curr][sum]=True\n",
        "      return True\n",
        "  dp[curr][sum]=can_Partition_util(nums,dp,sum,curr+1)\n",
        "  return dp[curr][sum]\n",
        "  \n",
        "def main():\n",
        "  print(can_Partition([1,2,3,4]))\n",
        "  print(can_Partition([1,1,3,4,7]))\n",
        "  print(can_Partition([2,3,4,6]))\n",
        "main()"
      ],
      "execution_count": 34,
      "outputs": [
        {
          "output_type": "stream",
          "text": [
            "True\n",
            "True\n",
            "False\n"
          ],
          "name": "stdout"
        }
      ]
    },
    {
      "cell_type": "markdown",
      "metadata": {
        "id": "vE78V86Tuu8b"
      },
      "source": [
        "Bottom Up Approach"
      ]
    },
    {
      "cell_type": "code",
      "metadata": {
        "id": "rzBkbKQurHIL",
        "outputId": "dd95f67f-c85f-45e3-a095-dc59c349b40d",
        "colab": {
          "base_uri": "https://localhost:8080/"
        }
      },
      "source": [
        "def can_Partition(nums):\n",
        "  s=sum(nums)\n",
        "  if s%2!=0:\n",
        "    return False\n",
        "  dp=[[False for _ in range((s//2)+1)]for _ in range(len(nums))]\n",
        "  s=(s//2)+1\n",
        "  n=len(nums)\n",
        "  for i in range(n):\n",
        "    dp[i][0]=True\n",
        "  for j in range(s):\n",
        "    dp[0][j]=j==nums[0]\n",
        "  for i in range(n):\n",
        "    for j in range(s):\n",
        "      if dp[i-1][j]:\n",
        "        dp[i][j]=dp[i-1][j]\n",
        "      elif j>=nums[i]:\n",
        "        dp[i][j]=dp[i-1][j-nums[i]]\n",
        "  print(dp)\n",
        "  return dp[n-1][s-1]\n",
        "    \n",
        "def main():\n",
        "  print(can_Partition([1,2,3,4]))\n",
        "  print(can_Partition([1,1,3,4,7]))\n",
        "  print(can_Partition([2,3,4,6]))\n",
        "main()"
      ],
      "execution_count": 42,
      "outputs": [
        {
          "output_type": "stream",
          "text": [
            "[[True, True, False, False, False, False], [True, True, True, True, False, False], [True, True, True, True, True, True], [True, True, True, True, True, True]]\n",
            "True\n",
            "[[True, True, False, False, False, False, False, False, False], [True, True, True, False, False, False, False, False, False], [True, True, True, True, True, True, False, False, False], [True, True, True, True, True, True, True, True, True], [True, True, True, True, True, True, True, True, True]]\n",
            "True\n",
            "False\n"
          ],
          "name": "stdout"
        }
      ]
    },
    {
      "cell_type": "markdown",
      "metadata": {
        "id": "Tbu3kA9qzMRY"
      },
      "source": [
        "**Subset Sum** *Given a set of positive numbers, determine if there exists a subset whose sum is equal to a given number ‘S’."
      ]
    },
    {
      "cell_type": "code",
      "metadata": {
        "id": "BMTrBzz9v3uO",
        "outputId": "8e74a372-dc5d-4931-d343-128d0a16fcc0",
        "colab": {
          "base_uri": "https://localhost:8080/"
        }
      },
      "source": [
        "#Brute Force\n",
        "def can_Partition(nums,sums):\n",
        "  return can_Partition_util(nums,sums,0)\n",
        "\n",
        "def can_Partition_util(nums,sum,curr):\n",
        "  if sum==0:\n",
        "    return True\n",
        "  n=len(nums)\n",
        "  if curr>=n or sum<0 or n==0:\n",
        "    return False\n",
        "  if nums[curr]<=sum:\n",
        "    if can_Partition_util(nums,sum-nums[curr],curr+1):\n",
        "      return True\n",
        "  return can_Partition_util(nums,sum,curr+1)\n",
        "def main():\n",
        "  print(can_Partition([1,2,3,7],6))\n",
        "  print(can_Partition([1,2,7,1,5],10))\n",
        "  print(can_Partition([1,3,4,8],6))\n",
        "main()"
      ],
      "execution_count": 50,
      "outputs": [
        {
          "output_type": "stream",
          "text": [
            "True\n",
            "True\n",
            "False\n"
          ],
          "name": "stdout"
        }
      ]
    },
    {
      "cell_type": "markdown",
      "metadata": {
        "id": "mHeQTh__2Bze"
      },
      "source": [
        "Top Down Approach"
      ]
    },
    {
      "cell_type": "code",
      "metadata": {
        "id": "rQLXK4yQ1_rf",
        "outputId": "7222441a-416e-4674-9892-82a96d248e30",
        "colab": {
          "base_uri": "https://localhost:8080/"
        }
      },
      "source": [
        "def can_Partition(nums,sums):\n",
        "  dp=[[False for _ in range((sums)+1)]for _ in range(len(nums))]\n",
        "  return can_Partition_util(nums,dp,sums,0)\n",
        "\n",
        "def can_Partition_util(nums,dp,sum,curr):\n",
        "  if sum==0:\n",
        "    return True\n",
        "  n=len(nums)\n",
        "  if curr>=n or sum<0 or n==0:\n",
        "    return False\n",
        "  if dp[curr][sum]:\n",
        "    return dp[curr][sum]\n",
        "  if nums[curr]<=sum:\n",
        "    if can_Partition_util(nums,dp,sum-nums[curr],curr+1):\n",
        "      dp[curr][sum]=True\n",
        "      return True\n",
        "  dp[curr][sum]=can_Partition_util(nums,dp,sum,curr+1)\n",
        "  return dp[curr][sum]\n",
        "  \n",
        "def main():\n",
        "  print(can_Partition([1,2,3,7],6))\n",
        "  print(can_Partition([1,2,7,1,5],10))\n",
        "  print(can_Partition([1,3,4,8],6))\n",
        "main()"
      ],
      "execution_count": 51,
      "outputs": [
        {
          "output_type": "stream",
          "text": [
            "True\n",
            "True\n",
            "False\n"
          ],
          "name": "stdout"
        }
      ]
    },
    {
      "cell_type": "markdown",
      "metadata": {
        "id": "wkDLHEEH2YHD"
      },
      "source": [
        "Bottom Up Approach"
      ]
    },
    {
      "cell_type": "code",
      "metadata": {
        "id": "ZtEYG-gF1Z9m",
        "outputId": "597acef8-e634-430c-ff07-a2f3e3b04291",
        "colab": {
          "base_uri": "https://localhost:8080/"
        }
      },
      "source": [
        "def can_Partition(nums,sums):\n",
        "  dp=[[False for _ in range(sums+1)]for _ in range(len(nums))]\n",
        "  s=sums+1\n",
        "  n=len(nums)\n",
        "  for i in range(n):\n",
        "    dp[i][0]=True\n",
        "  for j in range(s):\n",
        "    dp[0][j]=j==nums[0]\n",
        "  for i in range(n):\n",
        "    for j in range(s):\n",
        "      if dp[i-1][j]:\n",
        "        dp[i][j]=dp[i-1][j]\n",
        "      elif j>=nums[i]:\n",
        "        dp[i][j]=dp[i-1][j-nums[i]]\n",
        "  return dp[n-1][s-1]\n",
        "    \n",
        "def main():\n",
        "  print(can_Partition([1,2,3,7],6))\n",
        "  print(can_Partition([1,2,7,1,5],10))\n",
        "  print(can_Partition([1,3,4,8],6))\n",
        "main()\n"
      ],
      "execution_count": 78,
      "outputs": [
        {
          "output_type": "stream",
          "text": [
            "True\n",
            "True\n",
            "False\n"
          ],
          "name": "stdout"
        }
      ]
    },
    {
      "cell_type": "markdown",
      "metadata": {
        "id": "7WyOZRqE3QkR"
      },
      "source": [
        "**Problem Statement** #\n",
        "Given a set of positive numbers, partition the set into two subsets with a minimum difference between their subset sums.\n",
        "\n",
        "\n",
        "*   Input: {1, 2, 3, 9}\n",
        "Output: 3\n",
        "Explanation: We can partition the given set into two subsets where minimum absolute difference \n",
        "between the sum of numbers is '3'. Following are the two subsets: {1, 2, 3} & {9}.\n",
        "\n"
      ]
    },
    {
      "cell_type": "code",
      "metadata": {
        "id": "k_yIHCzm23yh",
        "outputId": "274f41ef-ff74-4aff-b3a0-fb82a6d67b20",
        "colab": {
          "base_uri": "https://localhost:8080/"
        }
      },
      "source": [
        "#Brute Force\n",
        "def can_Partition(nums):\n",
        "  return can_Partition_util(nums,0,0,0)\n",
        "\n",
        "def can_Partition_util(nums,curr,sum1,sum2):\n",
        "  if curr==len(nums):\n",
        "    return abs(sum1-sum2)\n",
        "  dif1=can_Partition_util(nums,curr+1,sum1+nums[curr],sum2)\n",
        "  dif2=can_Partition_util(nums,curr+1,sum1,sum2+nums[curr])\n",
        "  return min(dif1,dif2)\n",
        "\n",
        "def main():\n",
        "  print(can_Partition([1,2,3,9]))\n",
        "  print(can_Partition([1,2,7,1,5]))\n",
        "  print(can_Partition([1,3,100,4]))\n",
        "\n",
        "main()"
      ],
      "execution_count": 69,
      "outputs": [
        {
          "output_type": "stream",
          "text": [
            "3\n",
            "0\n",
            "92\n"
          ],
          "name": "stdout"
        }
      ]
    },
    {
      "cell_type": "markdown",
      "metadata": {
        "id": "xwKD3QwU3fot"
      },
      "source": [
        "Top Down Approach"
      ]
    },
    {
      "cell_type": "code",
      "metadata": {
        "id": "_p3ZIgTk3gD3",
        "outputId": "24eae4c8-c6d2-4e5f-fd85-42884a53ef27",
        "colab": {
          "base_uri": "https://localhost:8080/"
        }
      },
      "source": [
        "def can_Partition(nums):\n",
        "  s=sum(nums)\n",
        "  dp = [[-1 for _ in range(s+1)]for _ in range(len(nums))]\n",
        "  return can_Partition_util(dp,nums,0,0,0)\n",
        "\n",
        "def can_Partition_util(dp,nums,curr,sum1,sum2):\n",
        "  if curr==len(nums):\n",
        "    return abs(sum1-sum2)\n",
        "  if dp[curr][sum1]!=-1:\n",
        "    return dp[curr][sum1]\n",
        "  dif1=can_Partition_util(dp,nums,curr+1,sum1+nums[curr],sum2)\n",
        "  dif2=can_Partition_util(dp,nums,curr+1,sum1,sum2+nums[curr])\n",
        "  dp[curr][sum1]= min(dif1,dif2)\n",
        "  return dp[curr][sum1]\n",
        "\n",
        "def main():\n",
        "  print(can_Partition([1,2,3,9]))\n",
        "  print(can_Partition([1,2,7,1,5]))\n",
        "  print(can_Partition([1,3,100,4]))\n",
        "\n",
        "main()"
      ],
      "execution_count": 73,
      "outputs": [
        {
          "output_type": "stream",
          "text": [
            "3\n",
            "0\n",
            "92\n"
          ],
          "name": "stdout"
        }
      ]
    },
    {
      "cell_type": "markdown",
      "metadata": {
        "id": "aelYxPI33gNJ"
      },
      "source": [
        "Bottom Up approach"
      ]
    },
    {
      "cell_type": "code",
      "metadata": {
        "id": "XRcMynYZ3gVv",
        "outputId": "b1d3d705-4d2e-4965-cae6-d9597ad9e8a5",
        "colab": {
          "base_uri": "https://localhost:8080/"
        }
      },
      "source": [
        "def can_Partition(nums):\n",
        "  s=sum(nums)\n",
        "  sums=s\n",
        "  dp = [[False for _ in range((s//2)+1)]for _ in range(len(nums))]\n",
        "  s=(s//2)+1\n",
        "  n=len(nums)\n",
        "  for i in range(n):\n",
        "    dp[i][0]=True\n",
        "  for j in range(s):\n",
        "    if j==nums[0]:\n",
        "      dp[0][j]=True\n",
        "  for i in range(n):\n",
        "    for j in range(s):\n",
        "      if dp[i-1][j]:\n",
        "        dp[i][j]=dp[i-1][j]\n",
        "      elif j>=nums[i]:\n",
        "        dp[i][j]=dp[i-1][j-nums[i]]\n",
        "  sum1=0\n",
        "  for i in range(s-1,-1,-1):\n",
        "    if dp[n-1][i]:\n",
        "      sum1=i\n",
        "      break\n",
        "  sum2=sums-sum1\n",
        "  return abs(sum1-sum2)\n",
        "def main():\n",
        "  print(can_Partition([1,2,3,9]))\n",
        "  print(can_Partition([1,2,7,1,5]))\n",
        "  print(can_Partition([1,3,100,4]))\n",
        "\n",
        "main()"
      ],
      "execution_count": 88,
      "outputs": [
        {
          "output_type": "stream",
          "text": [
            "3\n",
            "0\n",
            "92\n"
          ],
          "name": "stdout"
        }
      ]
    },
    {
      "cell_type": "markdown",
      "metadata": {
        "id": "nc6Lxi-Tamix"
      },
      "source": [
        "**Count** **of** **subset** **sum:**\n",
        "**Problem Statement** #\n",
        "Given a set of positive numbers, find the total number of subsets whose sum is equal to a given number ‘S’.\n",
        "\n",
        "*  Example 1: #\n",
        "Input: {1, 1, 2, 3}, S=4\n",
        "Output: 3\n",
        "The given set has '3' subsets whose sum is '4': {1, 1, 2}, {1, 3}, {1, 3}\n",
        "Note that we have two similar sets {1, 3}, because we have two '1' in our input.\n",
        "\n",
        "\n",
        "\n"
      ]
    },
    {
      "cell_type": "code",
      "metadata": {
        "id": "fNBoHZJDVnPE",
        "outputId": "8d81d044-2bbe-46f6-b85a-415746add17e",
        "colab": {
          "base_uri": "https://localhost:8080/"
        }
      },
      "source": [
        "#BruteForce\n",
        "def can_Partition(nums,sums):\n",
        "  return can_Partition_util(nums,sums,0)\n",
        "\n",
        "def can_Partition_util(nums,sums,curr):\n",
        "  if sums==0:\n",
        "    return 1\n",
        "  if curr>=len(nums) or sums<0 or len(nums)==0:\n",
        "    return 0\n",
        "  sum1,sum2=0,0\n",
        "  if nums[curr]<=sums:\n",
        "    sum1=can_Partition_util(nums,sums-nums[curr],curr+1)\n",
        "  sum2=can_Partition_util(nums,sums,curr+1)\n",
        "  return sum1+sum2\n",
        "def main():\n",
        "  print(can_Partition([1,1,2,3],4))\n",
        "  print(can_Partition([1,2,7,1,5],9))\n",
        "\n",
        "main()\n"
      ],
      "execution_count": 92,
      "outputs": [
        {
          "output_type": "stream",
          "text": [
            "3\n",
            "3\n"
          ],
          "name": "stdout"
        }
      ]
    },
    {
      "cell_type": "markdown",
      "metadata": {
        "id": "YH_8oxv_f1AR"
      },
      "source": [
        "Top Down Approach"
      ]
    },
    {
      "cell_type": "code",
      "metadata": {
        "id": "9jeLev6ufpYC",
        "outputId": "4a9d6cd2-a701-4113-d778-07bdd208bd9b",
        "colab": {
          "base_uri": "https://localhost:8080/"
        }
      },
      "source": [
        "def can_Partition(nums,sums):\n",
        "  dp = [[-1 for _ in range(sums+1)]for _ in range(len(nums))]\n",
        "  return can_Partition_util(dp,nums,sums,0)\n",
        "\n",
        "def can_Partition_util(dp,nums,sums,curr):\n",
        "  if sums==0:\n",
        "    return 1\n",
        "  if len(nums)==0 or curr>=len(nums):\n",
        "    return 0\n",
        "  if dp[curr][sums]!=-1:\n",
        "    return dp[curr][sums]\n",
        "  sum1,sum2=0,0\n",
        "  if nums[curr]<=sums:\n",
        "    sum1=can_Partition_util(dp,nums,sums-nums[curr],curr+1)\n",
        "  sum2=can_Partition_util(dp,nums,sums,curr+1)\n",
        "  dp[curr][sums]=sum1+sum2\n",
        "  return dp[curr][sums]\n",
        "\n",
        "def main():\n",
        "  print(can_Partition([1,1,2,3],4))\n",
        "  print(can_Partition([1,2,7,1,5],9))\n",
        "\n",
        "main()\n"
      ],
      "execution_count": 94,
      "outputs": [
        {
          "output_type": "stream",
          "text": [
            "3\n",
            "3\n"
          ],
          "name": "stdout"
        }
      ]
    },
    {
      "cell_type": "markdown",
      "metadata": {
        "id": "oqXockBAf42g"
      },
      "source": [
        "Bottom up Approach"
      ]
    },
    {
      "cell_type": "code",
      "metadata": {
        "id": "k16twBuef5Zh",
        "outputId": "e3f211af-acb9-4cc5-f450-bfc183e0a8b6",
        "colab": {
          "base_uri": "https://localhost:8080/"
        }
      },
      "source": [
        "def can_Partition(nums,sums):\n",
        "  dp = [[0 for _ in range(sums+1)]for _ in range(len(nums))]\n",
        "  n=len(nums)\n",
        "  \n",
        "  for i in range(n):\n",
        "    dp[i][0]=1\n",
        "  for j in range(1,sums+1):\n",
        "    if j==nums[0]:\n",
        "      dp[0][j]=1\n",
        "    \n",
        "\n",
        "  for i in range(1,n):\n",
        "    for j in range(1,sums+1):\n",
        "      dp[i][j]=dp[i-1][j]\n",
        "      if j>=nums[i]:\n",
        "        dp[i][j]+=dp[i-1][j-nums[i]]\n",
        "\n",
        "  return dp[n-1][sums]\n",
        "\n",
        "def main():\n",
        "  print(can_Partition([1,1,2,3],4))\n",
        "  print(can_Partition([1,2,7,1,5],9))\n",
        "\n",
        "main()"
      ],
      "execution_count": 100,
      "outputs": [
        {
          "output_type": "stream",
          "text": [
            "3\n",
            "3\n"
          ],
          "name": "stdout"
        }
      ]
    },
    {
      "cell_type": "markdown",
      "metadata": {
        "id": "NsW6h-1aoctv"
      },
      "source": [
        "**Target Sum**\n",
        "Problem Statement #\n",
        "Given a set of positive numbers (non zero) and a target sum ‘S’. Each number should be assigned either a ‘+’ or ‘-’ sign. We need to find out total ways to assign symbols to make the sum of numbers equal to target ‘S’.\n",
        "\n",
        "\n",
        "*  Example 1: #\n",
        "Input: {1, 1, 2, 3}, S=1\n",
        "Output: 3\n",
        "Explanation: The given set has '3' ways to make a sum of '1': {+1-1-2+3} & {-1+1-2+3} & {+1+1+2-3} \n",
        "\n"
      ]
    },
    {
      "cell_type": "markdown",
      "metadata": {
        "id": "yTsPK5fLpQWm"
      },
      "source": [
        "Top Down Approach (Reduced to count of subset sum)"
      ]
    },
    {
      "cell_type": "code",
      "metadata": {
        "id": "KFZw1VFMpQmw",
        "outputId": "ee06527e-3c98-44b6-c2f2-6f451b6c0581",
        "colab": {
          "base_uri": "https://localhost:8080/"
        }
      },
      "source": [
        "def find_target_subsets(num, s):\n",
        "  totalSum = sum(num)\n",
        "  if totalSum < s or (s + totalSum) % 2 == 1:\n",
        "    return 0\n",
        "  return count_subsets(num, int((s + totalSum) / 2))\n",
        "\n",
        "def count_subsets(num, s):\n",
        "  n = len(num)\n",
        "  dp = [[0 for x in range(s+1)] for y in range(n)]\n",
        "  for i in range(0, n):\n",
        "    dp[i][0] = 1\n",
        "  for s in range(1, s+1):\n",
        "    dp[0][s] = 1 if num[0] == s else 0\n",
        "\n",
        "  for i in range(1, n):\n",
        "    for s in range(1, s+1):\n",
        "      dp[i][s] = dp[i - 1][s]\n",
        "      if s >= num[i]:\n",
        "        dp[i][s] += dp[i - 1][s - num[i]]\n",
        "  return dp[n - 1][s]\n",
        "\n",
        "def main():\n",
        "  print(find_target_subsets([1, 1, 2, 3], 1))\n",
        "  print(find_target_subsets([1, 2, 7, 1], 9))\n",
        "  print(find_target_subsets([1, 1, 2, 3], 0))\n",
        "\n",
        "main()"
      ],
      "execution_count": 104,
      "outputs": [
        {
          "output_type": "stream",
          "text": [
            "3\n",
            "2\n",
            "0\n"
          ],
          "name": "stdout"
        }
      ]
    },
    {
      "cell_type": "code",
      "metadata": {
        "id": "2-Gf5fYC-md4"
      },
      "source": [
        ""
      ],
      "execution_count": null,
      "outputs": []
    }
  ]
}