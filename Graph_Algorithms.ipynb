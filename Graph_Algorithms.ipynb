{
  "nbformat": 4,
  "nbformat_minor": 0,
  "metadata": {
    "colab": {
      "name": "Graph_Algorithms",
      "provenance": [],
      "collapsed_sections": []
    },
    "kernelspec": {
      "name": "python3",
      "display_name": "Python 3"
    }
  },
  "cells": [
    {
      "cell_type": "markdown",
      "metadata": {
        "id": "39yDWKaWPPNw"
      },
      "source": [
        "\n",
        "\n",
        "Prims Algorithm when adjacency matrix is given\n",
        "O(V**2)\n",
        "\n"
      ]
    },
    {
      "cell_type": "code",
      "metadata": {
        "id": "ImMsnHl4N1ro",
        "colab": {
          "base_uri": "https://localhost:8080/"
        },
        "outputId": "dceaa6eb-96e6-42e8-f8a9-e70b173c8d82"
      },
      "source": [
        "def prims(vertices,matrix):\n",
        "  parent=[None]*vertices\n",
        "  weights=[float('inf')]*vertices\n",
        "  weights[0]=0\n",
        "  visited=[False]*vertices\n",
        "  for i in range(vertices):\n",
        "    u=findMin(vertices,weights,visited)\n",
        "    visited[u]=True\n",
        "    for v in range(vertices):\n",
        "      if matrix[u][v]>0 and visited[v]==False and weights[v]>matrix[u][v]:\n",
        "        weights[v]=matrix[u][v]\n",
        "        parent[v]=u\n",
        "  return parent\n",
        "\n",
        "def findMin(vertices,weights,visited):\n",
        "  temp_min=float('inf')\n",
        "  for v in range(vertices):\n",
        "    if weights[v]<temp_min and visited[v]==False:\n",
        "      temp_min=weights[v]\n",
        "      min_index=v\n",
        "  return min_index\n",
        "\n",
        "def main():\n",
        "  graph=[ [0, 2, 0, 6, 0],\n",
        "      [2, 0, 3, 8, 5],\n",
        "      [0, 3, 0, 0, 7],\n",
        "      [6, 8, 0, 0, 9],\n",
        "      [0, 5, 7, 9, 0]]\n",
        "  res=prims(5,graph)\n",
        "  min_span=0\n",
        "  for i in range(1,len(res)):\n",
        "    min_span+=graph[i][res[i]]\n",
        "    print('Edge pair', i, res[i], 'weight', graph[i][res[i]]) \n",
        "  print(\"Minimum cost spanning tree is {}\".format(min_span))\n",
        "\n",
        "if __name__==\"__main__\":\n",
        "  main()"
      ],
      "execution_count": null,
      "outputs": [
        {
          "output_type": "stream",
          "text": [
            "Edge pair 1 0 weight 2\n",
            "Edge pair 2 1 weight 3\n",
            "Edge pair 3 0 weight 6\n",
            "Edge pair 4 1 weight 5\n",
            "Minimum cost spanning tree is 16\n"
          ],
          "name": "stdout"
        }
      ]
    },
    {
      "cell_type": "markdown",
      "metadata": {
        "id": "y3I_L4VRPaM5"
      },
      "source": [
        "Kruskals Algorithm"
      ]
    },
    {
      "cell_type": "code",
      "metadata": {
        "id": "W4NLTVhnPbDS",
        "colab": {
          "base_uri": "https://localhost:8080/"
        },
        "outputId": "b421a8fc-d9cf-4d3f-9ba1-0016960aae4e"
      },
      "source": [
        "class Node: \n",
        "    def __init__(self,parent,rank): \n",
        "        self.parent = parent\n",
        "        self.rank = rank\n",
        "\n",
        "def find(ref,u):\n",
        "  if ref[u].parent==u:\n",
        "    return u\n",
        "  return find(ref,ref[u].parent)\n",
        "\n",
        "def union(ref,x,y):\n",
        "  xroot=find(ref,x)\n",
        "  yroot=find(ref,y)\n",
        "  if ref[xroot].rank<ref[yroot].rank:\n",
        "    ref[xroot].parent=yroot\n",
        "  elif ref[xroot].rank>ref[yroot].rank:\n",
        "    ref[yroot].parent=xroot\n",
        "  else:\n",
        "    ref[yroot].parent=xroot\n",
        "    ref[xroot].rank+=1\n",
        "\n",
        "\n",
        "def kruskals(vertices,graph):\n",
        "  graph=sorted(graph,key=lambda edge:edge[2])\n",
        "  ref=[None]*vertices\n",
        "  for i in range(vertices):\n",
        "    ref[i]=Node(i,0)\n",
        "  res=[]\n",
        "  e=0\n",
        "  i=0\n",
        "\n",
        "  while i<len(graph) and e<vertices-1:\n",
        "    u,v,w=graph[i]\n",
        "    i+=1\n",
        "    x=find(ref,u)\n",
        "    y=find(ref,v)\n",
        "    if x!=y:\n",
        "      e+=1\n",
        "      res.append((u,v,w))\n",
        "      union(ref,x,y)\n",
        "  return res\n",
        "\n",
        "\n",
        "def main():\n",
        "  graph=[(0,1,10),(0,2,6),(0,3,5),(1,3,15),(2,3,4)]\n",
        "  res=kruskals(4,graph)\n",
        "  min_Span=0\n",
        "  for i in range(len(res)):\n",
        "    min_Span+=res[i][2]\n",
        "    print(\"edge {} and {} with weight {}\".format(res[i][0],res[i][1],res[i][2]))\n",
        "  print(\"Minimum cost spanning tree {}\".format(min_Span))\n",
        "\n",
        "if __name__==\"__main__\":\n",
        "  main()"
      ],
      "execution_count": null,
      "outputs": [
        {
          "output_type": "stream",
          "text": [
            "edge 2 and 3 with weight 4\n",
            "edge 0 and 3 with weight 5\n",
            "edge 0 and 1 with weight 10\n",
            "Minimum cost spanning tree 19\n"
          ],
          "name": "stdout"
        }
      ]
    },
    {
      "cell_type": "markdown",
      "metadata": {
        "id": "_p9zK0WOPgPw"
      },
      "source": [
        "Dijkstras Algorithm with adjacency matrix (undirected grph)"
      ]
    },
    {
      "cell_type": "code",
      "metadata": {
        "id": "X0cZ8FBaE-ZA",
        "colab": {
          "base_uri": "https://localhost:8080/"
        },
        "outputId": "a0b5ac97-920c-47c9-c347-a8e1950ad9d6"
      },
      "source": [
        "def dijkstras(start,graph,vertices):\n",
        "  res=[float('inf')]*vertices\n",
        "  res[start]=0\n",
        "  visited=[False]*vertices\n",
        "  for i in range(vertices):\n",
        "    u=find_min(visited,res,vertices)\n",
        "    visited[u]=True\n",
        "    for v in range(vertices):\n",
        "      if graph[u][v]!=0 and visited[v]==False and res[v]>res[u]+graph[u][v]:\n",
        "        res[v]=res[u]+graph[u][v]\n",
        "  return res\n",
        "\n",
        "def find_min(visited,res,vertices):\n",
        "  min_temp=float('inf')\n",
        "  for i in range(vertices):\n",
        "    if visited[i]==False and res[i]<min_temp:\n",
        "      min_temp=res[i]\n",
        "      min_index=i\n",
        "  return min_index\n",
        "\n",
        "def main():\n",
        "  graph=[[0, 4, 0, 0, 0, 0, 0, 8, 0],[4, 0, 8, 0, 0, 0, 0, 11, 0],[0, 8, 0, 7, 0, 4, 0, 0, 2],[0, 0, 7, 0, 9, 14, 0, 0, 0],[0, 0, 0, 9, 0, 10, 0, 0, 0],[0, 0, 4, 14, 10, 0, 2, 0, 0],[0, 0, 0, 0, 0, 2, 0, 1, 6],[8, 11, 0, 0, 0, 0, 1, 0, 7],[0, 0, 2, 0, 0, 0, 6, 7, 0]]\n",
        "  res=dijkstras(0,graph,9)\n",
        "  print(res)\n",
        "\n",
        "if __name__==\"__main__\":\n",
        "  main()"
      ],
      "execution_count": null,
      "outputs": [
        {
          "output_type": "stream",
          "text": [
            "[0, 4, 12, 19, 21, 11, 9, 8, 14]\n"
          ],
          "name": "stdout"
        }
      ]
    },
    {
      "cell_type": "markdown",
      "metadata": {
        "id": "ny5IBQLOIvOX"
      },
      "source": [
        "Dijkstras Algorithm with adjacency list (directed grph)"
      ]
    },
    {
      "cell_type": "code",
      "metadata": {
        "id": "fGd07f1cI1Un",
        "colab": {
          "base_uri": "https://localhost:8080/"
        },
        "outputId": "978ace5f-d9d2-4774-e488-e5b22321df1b"
      },
      "source": [
        "from collections import defaultdict\n",
        "import heapq\n",
        "def dijkstras(head,lis,vertices):\n",
        "  graph=defaultdict(list)\n",
        "  for u,v,w in lis:\n",
        "    graph[u].append((v,w))\n",
        "  pq=[(0,head)]\n",
        "  dist={}\n",
        "  while pq:\n",
        "    w,u=heapq.heappop(pq)\n",
        "    if u in dist: continue\n",
        "    dist[u]=w\n",
        "    for v,weight in graph[u]:\n",
        "      if v not in dist:\n",
        "        heapq.heappush(pq,(weight+w,v))\n",
        "  return dist\n",
        "\n",
        "#Method 2\n",
        "  # graph=defaultdict(list)\n",
        "  # for u,v,w in times:\n",
        "  #     graph[u].append((v,w))\n",
        "  # distance=[float('inf')]*(vertices+1)\n",
        "  # boolean=[False]*(N+1)\n",
        "  # distance[K]=0\n",
        "  # q=[]\n",
        "  # heapq.heapify(q)\n",
        "  # heapq.heappush(q,(0,start))\n",
        "  # for i in range(1,vertices+1):\n",
        "  #     if i==K:\n",
        "  #         heapq.heappush(q,(0,i))\n",
        "  #     else:\n",
        "  #         heapq.heappush(q,(float('inf'),i))\n",
        "  # while False in boolean[1:]:\n",
        "  #     dist,u=heapq.heappop(q)\n",
        "  #     boolean[u]=True\n",
        "  #     for item in graph[u]:\n",
        "  #         v,cost=item\n",
        "  #         if distance[v]>dist+cost:\n",
        "  #             distance[v]=dist+cost\n",
        "  #             heapq.heappush(q,(distance[v],v))\n",
        "\n",
        "def main():\n",
        "  graph=[(0,1,1),(0,2,4),(1,2,2),(1,3,6),(2,3,3)]\n",
        "  res=dijkstras(0,graph,4)\n",
        "  \n",
        "  print(res)\n",
        "\n",
        "if __name__==\"__main__\":\n",
        "  main()"
      ],
      "execution_count": null,
      "outputs": [
        {
          "output_type": "stream",
          "text": [
            "{0: 0, 1: 1, 2: 3, 3: 6}\n"
          ],
          "name": "stdout"
        }
      ]
    },
    {
      "cell_type": "markdown",
      "metadata": {
        "id": "Xe_L5szzPmLL"
      },
      "source": [
        "Bellmann Ford Algorithm"
      ]
    },
    {
      "cell_type": "code",
      "metadata": {
        "id": "kUYeeGuRPrsP",
        "colab": {
          "base_uri": "https://localhost:8080/"
        },
        "outputId": "8aa5dc9b-de5b-4b56-91b8-52e267703b2e"
      },
      "source": [
        "def bellMannFord(start,graph,vertices):\n",
        "  dist=[float('inf')]*(vertices)\n",
        "  dist[start]=0\n",
        "  for _ in range(vertices-1):\n",
        "    for u,v,w in graph:\n",
        "      if dist[u]!=float('inf') and dist[v]>dist[u]+w:\n",
        "        dist[v]=dist[u]+w\n",
        "  for u,v,w in graph:\n",
        "    if dist[u]!=float('inf') and dist[v]>dist[u]+w:\n",
        "      print(\"Negative edge cycle in graph\")\n",
        "      return []\n",
        "  return dist\n",
        "def main():\n",
        "  graph=[(0,1,1),(0,2,4),(1,2,2),(1,3,6),(2,3,3)]\n",
        "  res=bellMannFord(0,graph,4)\n",
        "  print(res)\n",
        "\n",
        "if __name__==\"__main__\":\n",
        "  main()"
      ],
      "execution_count": null,
      "outputs": [
        {
          "output_type": "stream",
          "text": [
            "[0, 1, 3, 6]\n"
          ],
          "name": "stdout"
        }
      ]
    },
    {
      "cell_type": "markdown",
      "metadata": {
        "id": "R4sVtjj5PuVs"
      },
      "source": [
        "Floyd Warshall Algorithm"
      ]
    },
    {
      "cell_type": "code",
      "metadata": {
        "id": "J8LKHyjYPxQz",
        "colab": {
          "base_uri": "https://localhost:8080/"
        },
        "outputId": "fca4b93c-549d-4470-cb33-e19c6fe855a6"
      },
      "source": [
        "def floyd_Warshall(graph):\n",
        "  for i in range(len(graph)):\n",
        "    for u in range(len(graph)):\n",
        "      for v in range(len(graph)):\n",
        "        if graph[u][i]==float('inf') or graph[i][v]==float('inf'):\n",
        "          continue\n",
        "        if graph[u][v]>graph[u][i]+graph[i][v]:\n",
        "          graph[u][v]=graph[u][i]+graph[i][v]\n",
        "  for i in range(len(graph)):\n",
        "    for j in range(len(graph[0])):\n",
        "      if graph[i][j]<0:\n",
        "        print(\"negative edge cycle in graph\")\n",
        "        return []\n",
        "  return graph\n",
        "\n",
        "def main():\n",
        "  graph=[[0, 4, 0, 0, 0, 0, 0, 8, 0],[4, 0, 8, 0, 0, 0, 0, 11, 0],[0, 8, 0, 7, 0, 4, 0, 0, 2],[0, 0, 7, 0, 9, 14, 0, 0, 0],[0, 0, 0, 9, 0, 10, 0, 0, 0],[0, 0, 4, 14, 10, 0, 2, 0, 0],[0, 0, 0, 0, 0, 2, 0, 1, 6],[8, 11, 0, 0, 0, 0, 1, 0, 7],[0, 0, 2, 0, 0, 0, 6, 7, 0]]\n",
        "  for i in range(len(graph)):\n",
        "    for j in range(len(graph[0])):\n",
        "      if i==j:\n",
        "        continue\n",
        "      if graph[i][j]==0:\n",
        "        graph[i][j]=float('inf')\n",
        "  res=floyd_Warshall(graph)\n",
        "  print(res)\n",
        "if __name__==\"__main__\":\n",
        "  main()"
      ],
      "execution_count": null,
      "outputs": [
        {
          "output_type": "stream",
          "text": [
            "[[0, 4, 12, 19, 21, 11, 9, 8, 14], [4, 0, 8, 15, 22, 12, 12, 11, 10], [12, 8, 0, 7, 14, 4, 6, 7, 2], [19, 15, 7, 0, 9, 11, 13, 14, 9], [21, 22, 14, 9, 0, 10, 12, 13, 16], [11, 12, 4, 11, 10, 0, 2, 3, 6], [9, 12, 6, 13, 12, 2, 0, 1, 6], [8, 11, 7, 14, 13, 3, 1, 0, 7], [14, 10, 2, 9, 16, 6, 6, 7, 0]]\n"
          ],
          "name": "stdout"
        }
      ]
    },
    {
      "cell_type": "markdown",
      "metadata": {
        "id": "7aXeRvRnPx9O"
      },
      "source": [
        "Detect Cycle in directed Graph using Graph colours"
      ]
    },
    {
      "cell_type": "code",
      "metadata": {
        "id": "0H5rnptXP152",
        "colab": {
          "base_uri": "https://localhost:8080/"
        },
        "outputId": "dc354dd4-df03-4c7a-9b4b-24b683798b9c"
      },
      "source": [
        "import collections\n",
        "def helper(vertex,color,dic):\n",
        "  color[vertex]=\"Gray\"\n",
        "  for v in dic[vertex]:\n",
        "    if color[v]==\"Gray\":\n",
        "      return True\n",
        "    if color[v]==\"White\" and helper(v,color,dic):\n",
        "      return True\n",
        "  color[vertex]=\"Black\"\n",
        "  return False\n",
        "\n",
        "def isCyclic(lis,vertex):\n",
        "  dic=collections.defaultdict(list)\n",
        "  for u,v in lis:\n",
        "      dic[u].append(v)\n",
        "\n",
        "  \n",
        "  color=[\"White\"]*vertex\n",
        "  for i in range(vertex):\n",
        "    if color[i]==\"White\":\n",
        "      if helper(i,color,dic):\n",
        "        return True\n",
        "  return False\n",
        "\n",
        "def main():\n",
        "  graph=[(0,1),(0,2),(1,2),(2,3),(2,0),(3,3)]\n",
        "  v=4\n",
        "  if isCyclic(graph,v):\n",
        "    print(\"Given graph contains cycle\")\n",
        "  else:\n",
        "    print(\"No cycle exists\")\n",
        "if __name__==\"__main__\":\n",
        "  main()"
      ],
      "execution_count": null,
      "outputs": [
        {
          "output_type": "stream",
          "text": [
            "Given graph contains cycle\n"
          ],
          "name": "stdout"
        }
      ]
    },
    {
      "cell_type": "markdown",
      "metadata": {
        "id": "pgvnXLZzH9Nz"
      },
      "source": [
        "Detect Cycle in directed Graph using DFS and recurisve stack"
      ]
    },
    {
      "cell_type": "code",
      "metadata": {
        "id": "GpBXc8y_H9o5",
        "colab": {
          "base_uri": "https://localhost:8080/"
        },
        "outputId": "a772a4d3-e773-4775-eba9-0698cc0ac8da"
      },
      "source": [
        "def isCyclic(lis,vertices):\n",
        "  graph=collections.defaultdict(list)\n",
        "  for u,v in lis:\n",
        "    # if u!=v:\n",
        "    graph[u].append(v)\n",
        "  visited=[False]*vertices\n",
        "  rec_Stack=[False]*vertices\n",
        "  for i in range(vertices):\n",
        "    if visited[i]==False:\n",
        "      if helper(i,graph,visited,rec_Stack):\n",
        "        return True\n",
        "  return False\n",
        "\n",
        "def helper(node,graph,visited,rec_Stack):\n",
        "  visited[node]=True\n",
        "  rec_Stack[node]=True\n",
        "  for v in graph[node]:\n",
        "    if visited[v]==False:\n",
        "      if helper(v,graph,visited,rec_Stack):\n",
        "        return True\n",
        "    elif rec_Stack[v]==True:\n",
        "      return True\n",
        "  rec_Stack[node]=False\n",
        "  return False\n",
        "\n",
        "def main():\n",
        "  graph=[(0,1),(0,2),(1,2),(2,3),(3,3),(2,0)]\n",
        "  v=4\n",
        "  if isCyclic(graph,v)==1:\n",
        "    print(\"Given graph contains cycle\")\n",
        "  else:\n",
        "    print(\"No cycle exists\")\n",
        "\n",
        "if __name__==\"__main__\":\n",
        "  main()"
      ],
      "execution_count": null,
      "outputs": [
        {
          "output_type": "stream",
          "text": [
            "Given graph contains cycle\n"
          ],
          "name": "stdout"
        }
      ]
    },
    {
      "cell_type": "markdown",
      "metadata": {
        "id": "kvwUgmRMP2vb"
      },
      "source": [
        "Detect Cycle in undirected Graph using DFS"
      ]
    },
    {
      "cell_type": "code",
      "metadata": {
        "id": "jQofA_pRP3BR",
        "colab": {
          "base_uri": "https://localhost:8080/"
        },
        "outputId": "cebec8bf-d672-4988-c74e-090f3e513be7"
      },
      "source": [
        "import collections\n",
        "def isCyclic(lis,vertices):\n",
        "  graph=collections.defaultdict(list)\n",
        "  for u,v in lis:\n",
        "    graph[u].append(v)\n",
        "    graph[v].append(u)\n",
        "  visited=[False]*vertices\n",
        "  for i in range(vertices):\n",
        "    if visited[i]==False:\n",
        "      if helper(i,graph,visited,-1):\n",
        "        return True\n",
        "  return False\n",
        "\n",
        "def helper(node,graph,visited,parent):\n",
        "  visited[node]=True\n",
        "  for v in graph[node]:\n",
        "    if visited[v]==False:\n",
        "      return helper(v,graph,visited,node)\n",
        "    elif parent!=v:\n",
        "      return True\n",
        "  return False\n",
        "\n",
        "def main():\n",
        "  graph=[(0,1),(1,2)]\n",
        "  v=3\n",
        "  if isCyclic(graph,4):\n",
        "    print(\"Given undirected graph contains cycle\")\n",
        "  else:\n",
        "    print(\"No cycle exists\")\n",
        "  graph=[(0,1),(0,2),(2,0),(2,3),(3,3),(1,2)]\n",
        "  v=4\n",
        "  if isCyclic(graph,v):\n",
        "    print(\"Given undirected graph contains cycle\")\n",
        "  else:\n",
        "    print(\"No cycle exists\")\n",
        "\n",
        "if __name__==\"__main__\":\n",
        "  main()"
      ],
      "execution_count": null,
      "outputs": [
        {
          "output_type": "stream",
          "text": [
            "Given undirected graph contains cycle\n",
            "Given undirected graph contains cycle\n"
          ],
          "name": "stdout"
        }
      ]
    },
    {
      "cell_type": "markdown",
      "metadata": {
        "id": "jsfHoQgpMUzo"
      },
      "source": [
        "Detect Cycle in undirected Graph using disjoint sets"
      ]
    },
    {
      "cell_type": "code",
      "metadata": {
        "id": "572JQtNHMVNt",
        "colab": {
          "base_uri": "https://localhost:8080/"
        },
        "outputId": "e7c9bf59-5e59-42ac-fa67-b2b4753587f4"
      },
      "source": [
        "def  isCyclic(graph,vertices):\n",
        "  parent=[None]*vertices\n",
        "  for i in range(vertices):\n",
        "    parent[i]=i\n",
        "  i=0\n",
        "  while i<len(graph):\n",
        "    u,v=graph[i]\n",
        "    i+=1\n",
        "    xset=find(u,parent)\n",
        "    yset=find(v,parent)\n",
        "    if xset==yset:\n",
        "      return True\n",
        "    union(xset,yset,parent)\n",
        "  return False\n",
        "\n",
        "def find(vertex,parent):\n",
        "  if parent[vertex]==vertex:\n",
        "    return vertex\n",
        "  return find(parent[vertex],parent)\n",
        "\n",
        "def union(u,v,parent):\n",
        "  xset=find(u,parent)\n",
        "  yset=find(v,parent)\n",
        "  parent[xset]=yset\n",
        "\n",
        "def main():\n",
        "  graph=[(0,1),(1,2)]\n",
        "  v=4\n",
        "  if isCyclic(graph,v)==1:\n",
        "    print(\"Given undirected graph contains cycle\")\n",
        "  else:\n",
        "    print(\"No cycle exists\")\n",
        "\n",
        "if __name__==\"__main__\":\n",
        "  main()"
      ],
      "execution_count": null,
      "outputs": [
        {
          "output_type": "stream",
          "text": [
            "No cycle exists\n"
          ],
          "name": "stdout"
        }
      ]
    },
    {
      "cell_type": "markdown",
      "metadata": {
        "id": "l_6Z9D8lQDB0"
      },
      "source": [
        "Tarjans Algorithm (Find critical edges)"
      ]
    },
    {
      "cell_type": "code",
      "metadata": {
        "id": "o32Tl93mQIkq",
        "colab": {
          "base_uri": "https://localhost:8080/"
        },
        "outputId": "f57922f9-0a24-4954-fa13-5a204e2a297b"
      },
      "source": [
        "import collections\n",
        "class Node: \n",
        "    def __init__(self,disc,low,parent): \n",
        "        self.disc = disc\n",
        "        self.low =low\n",
        "        self.parent=parent\n",
        "def dfs(graph,u,ref,res,time):\n",
        "  ref[u].disc=time\n",
        "  ref[u].low=time\n",
        "  time+=1\n",
        "  for v in graph[u]:\n",
        "    if ref[v].disc==-1:\n",
        "      ref[v].parent=u\n",
        "      dfs(graph,v,ref,res,time)\n",
        "      ref[u].low=min(ref[u].low,ref[v].low)\n",
        "      \n",
        "      if ref[u].disc<ref[v].low:\n",
        "        res.append((u,v))\n",
        "    elif v!=ref[u].parent:\n",
        "      ref[u].low=min(ref[u].low,ref[v].disc)\n",
        "\n",
        "def find_Critialedges(lis,vertices):\n",
        "  graph=collections.defaultdict(list)\n",
        "  for u,v in lis:\n",
        "    graph[u].append(v)\n",
        "  ref=[None]*vertices\n",
        "  res=[]\n",
        "  time=0\n",
        "  for i in range(vertices):\n",
        "    ref[i]=Node(-1,-1,-1)\n",
        "  for i in range(vertices):\n",
        "    if ref[i].disc==-1:\n",
        "      dfs(graph,i,ref,res,time)\n",
        "  return res\n",
        "\n",
        "def main():\n",
        "  graph=[(0,2),(2,0),(0,3),(3,0),(1,0),(0,1),(2,1),(1,2),(3,4),(4,3)]\n",
        "  v=5\n",
        "  res=find_Critialedges(graph,v)\n",
        "  print(\"critical edges in the given graph are\")\n",
        "  print(res)\n",
        "  print(find_Critialedges([[0,1],[1,2],[2,0],[1,3]],4))\n",
        "if __name__==\"__main__\":\n",
        "  main()"
      ],
      "execution_count": null,
      "outputs": [
        {
          "output_type": "stream",
          "text": [
            "critical edges in the given graph are\n",
            "[(3, 4), (0, 3)]\n",
            "[(1, 3)]\n"
          ],
          "name": "stdout"
        }
      ]
    },
    {
      "cell_type": "markdown",
      "metadata": {
        "id": "PBJ3MIDnQJSg"
      },
      "source": [
        "Find strongly connected components "
      ]
    },
    {
      "cell_type": "code",
      "metadata": {
        "id": "M12oG86PQR1s",
        "colab": {
          "base_uri": "https://localhost:8080/"
        },
        "outputId": "b464563e-31f6-4c7a-c166-86e32c8fcf9b"
      },
      "source": [
        "import collections\n",
        "class Node: \n",
        "    def __init__(self,disc,low,vis): \n",
        "        self.disc = disc\n",
        "        self.low =low\n",
        "        self.visited=vis\n",
        "\n",
        "def dfs(graph,u,ref,res,time,stack):\n",
        "  ref[u].disc=time\n",
        "  ref[u].low=time\n",
        "  ref[u].visited=True\n",
        "  stack.append(u)\n",
        "  time+=1\n",
        "  for v in graph[u]:\n",
        "    if ref[v].disc==-1:\n",
        "      ref[v].visited=True\n",
        "      dfs(graph,v,ref,res,time,stack)\n",
        "      ref[u].low=min(ref[u].low,ref[v].low)\n",
        "    elif ref[v].visited:\n",
        "      ref[u].low=min(ref[u].low,ref[v].disc)\n",
        "\n",
        "  if ref[u].low==ref[u].disc:\n",
        "    scc=[]\n",
        "    while stack[-1]!=u:\n",
        "      ref[stack[-1]].visited=False\n",
        "      scc.append(stack.pop())\n",
        "    ref[stack[-1]].visited=False\n",
        "    scc.append(stack.pop())\n",
        "    res.append(scc)\n",
        "\n",
        "\n",
        "def strongly_Conn_Comp(lis,vertices):\n",
        "  graph=collections.defaultdict(list)\n",
        "  for u,v in lis:\n",
        "    graph[u].append(v)\n",
        "  ref=[None]*vertices\n",
        "  res=[]\n",
        "  stack=[]\n",
        "  time=0\n",
        "  for i in range(vertices):\n",
        "    ref[i]=Node(-1,-1,False)\n",
        "  for i in range(vertices):\n",
        "    if ref[i].disc==-1:\n",
        "      dfs(graph,i,ref,res,time,stack)\n",
        "  return res\n",
        "def main():\n",
        "  graph=[(0,1),(1,2),(1,3),(3,4),(4,0),(4,5),(4,6),(5,6),(6,5)]\n",
        "  v=7\n",
        "  res=strongly_Conn_Comp(graph,v)\n",
        "  print(\"Strongly connected components in the graph are\")\n",
        "  print(res)\n",
        "if __name__==\"__main__\":\n",
        "  main()"
      ],
      "execution_count": null,
      "outputs": [
        {
          "output_type": "stream",
          "text": [
            "Strongly connected components in the graph are\n",
            "[[2], [6, 5], [4, 3, 1, 0]]\n"
          ],
          "name": "stdout"
        }
      ]
    },
    {
      "cell_type": "markdown",
      "metadata": {
        "id": "TV9g-PxhUoMU"
      },
      "source": [
        "Topological Sort(Recursive) "
      ]
    },
    {
      "cell_type": "code",
      "metadata": {
        "id": "Wsr3dUqbUqTc",
        "colab": {
          "base_uri": "https://localhost:8080/"
        },
        "outputId": "ff45518d-858d-422c-8deb-20c0812c4823"
      },
      "source": [
        "def helper(graph,u,res_stack,visited):\n",
        "  visited[u]=True\n",
        "  for v in graph[u]:\n",
        "    if visited[v]==False:\n",
        "      helper(graph,v,res_stack,visited)\n",
        "  res_stack.append(u)\n",
        "\n",
        "def topological_sort_recursive(graph,vertices):\n",
        "  dic=defaultdict(list)\n",
        "  for dependent,vertex in graph:\n",
        "    dic[vertex].append(dependent)\n",
        "  visited=[False]*vertices\n",
        "  res_stack=[]\n",
        "  for i in range(vertices):\n",
        "    if visited[i]==False:\n",
        "      helper(dic,i,res_stack,visited)\n",
        "  return res_stack[::-1]\n",
        "\n",
        "def main():\n",
        "  graph=[(5,2),(5,0),(4,0),(4,1),(2,3),(3,1)]\n",
        "  v=6\n",
        "  res=topological_sort_recursive(graph,v)\n",
        "  if len(res)!=v:\n",
        "    print(\"cycle exists in the given graph\")\n",
        "  else:\n",
        "    print(res)\n",
        "\n",
        "if __name__==\"__main__\":\n",
        "  main()"
      ],
      "execution_count": null,
      "outputs": [
        {
          "output_type": "stream",
          "text": [
            "[1, 3, 2, 0, 4, 5]\n"
          ],
          "name": "stdout"
        }
      ]
    },
    {
      "cell_type": "markdown",
      "metadata": {
        "id": "1NGaBpu5wsTP"
      },
      "source": [
        "Kahn’s algorithm for Topological Sorting (Iterative)"
      ]
    },
    {
      "cell_type": "code",
      "metadata": {
        "id": "XzVunwB2wuXZ",
        "colab": {
          "base_uri": "https://localhost:8080/"
        },
        "outputId": "d5e81cc2-01e9-4a62-dda5-0940e37af3c2"
      },
      "source": [
        "import collections\n",
        "def topological_sort(graph,vertices):\n",
        "  dic=defaultdict(list)\n",
        "  num_of_dependencies=[0 for _ in range(vertices)]\n",
        "  for dependent,vertex in graph:\n",
        "    dic[vertex].append(dependent)\n",
        "    num_of_dependencies[dependent]+=1\n",
        "  top_sort=[vertex for vertex in range(vertices) if num_of_dependencies[vertex]==0]\n",
        "  for vertex in top_sort:\n",
        "    vertices-=1\n",
        "    for j in dic[vertex]:\n",
        "      num_of_dependencies[j]-=1\n",
        "      if num_of_dependencies[j]==0:\n",
        "        top_sort.append(j)\n",
        "  return top_sort if vertices==0 else []\n",
        "  \n",
        "def main():\n",
        "  graph=[(5,2),(5,0),(4,0),(4,1),(2,3),(3,1)]\n",
        "  res=topological_sort(graph,6)\n",
        "  if not res:\n",
        "    print(\"cycle exists in the given graph\")\n",
        "  else:\n",
        "    print(res)\n",
        "\n",
        "if __name__==\"__main__\":\n",
        "  main()"
      ],
      "execution_count": null,
      "outputs": [
        {
          "output_type": "stream",
          "text": [
            "[0, 1, 4, 3, 2, 5]\n"
          ],
          "name": "stdout"
        }
      ]
    },
    {
      "cell_type": "code",
      "metadata": {
        "id": "KppCkVnI3sfD"
      },
      "source": [
        ""
      ],
      "execution_count": null,
      "outputs": []
    }
  ]
}